{
 "cells": [
  {
   "cell_type": "code",
   "execution_count": 1,
   "id": "33b59445-257f-4e2e-a35f-9d5a1485d3ff",
   "metadata": {},
   "outputs": [
    {
     "name": "stdin",
     "output_type": "stream",
     "text": [
      "Enter your grade 5\n"
     ]
    },
    {
     "name": "stdout",
     "output_type": "stream",
     "text": [
      "Your salary is not defined yet. Please wait for some time\n"
     ]
    }
   ],
   "source": [
    "grade = iinput(\"Enter your grade\")\n",
    "\n",
    "if grade == 2:\n",
    "    print(\"Your salary should be more than 20000\")\n",
    "elif grade == 3:\n",
    "    print(\"Your salary should be 35000\")\n",
    "elif grade == 4:\n",
    "    print(\"Your salary should be 45000\")\n",
    "else:\n",
    "    print(\"Your salary is not defined yet. Please wait for some time\")"
   ]
  },
  {
   "cell_type": "code",
   "execution_count": 2,
   "id": "98d46db4-1223-4e0f-95f5-a229dfc7332c",
   "metadata": {},
   "outputs": [
    {
     "data": {
      "text/plain": [
       "'5'"
      ]
     },
     "execution_count": 2,
     "metadata": {},
     "output_type": "execute_result"
    }
   ],
   "source": [
    "grade"
   ]
  },
  {
   "cell_type": "code",
   "execution_count": 6,
   "id": "468366be-d228-477b-84a1-440262ac20bf",
   "metadata": {},
   "outputs": [
    {
     "data": {
      "text/plain": [
       "str"
      ]
     },
     "execution_count": 6,
     "metadata": {},
     "output_type": "execute_result"
    }
   ],
   "source": [
    "type(grade)"
   ]
  },
  {
   "cell_type": "code",
   "execution_count": 7,
   "id": "9cb2339f-2d8f-4212-aa45-0005d09ffa7a",
   "metadata": {},
   "outputs": [
    {
     "name": "stdin",
     "output_type": "stream",
     "text": [
      "Enter your grade 3\n"
     ]
    },
    {
     "name": "stdout",
     "output_type": "stream",
     "text": [
      "Your salary should be 35000\n"
     ]
    }
   ],
   "source": [
    "grade = int(input(\"Enter your grade\"))\n",
    "\n",
    "if grade == 2:\n",
    "    print(\"Your salary should be more than 20000\")\n",
    "elif grade == 3:\n",
    "    print(\"Your salary should be 35000\")\n",
    "elif grade == 4:\n",
    "    print(\"Your salary should be 45000\")\n",
    "else:\n",
    "    print(\"Your salary is not defined yet. Please wait for some time\")"
   ]
  },
  {
   "cell_type": "code",
   "execution_count": 8,
   "id": "abebda85-0a92-4dfd-b8a0-c13feb432469",
   "metadata": {},
   "outputs": [
    {
     "data": {
      "text/plain": [
       "3"
      ]
     },
     "execution_count": 8,
     "metadata": {},
     "output_type": "execute_result"
    }
   ],
   "source": [
    "grade"
   ]
  },
  {
   "cell_type": "code",
   "execution_count": 9,
   "id": "705e5217-1d8b-4e1a-b28f-75fc91ef9976",
   "metadata": {},
   "outputs": [
    {
     "data": {
      "text/plain": [
       "int"
      ]
     },
     "execution_count": 9,
     "metadata": {},
     "output_type": "execute_result"
    }
   ],
   "source": [
    "type(grade)\n"
   ]
  },
  {
   "cell_type": "code",
   "execution_count": 16,
   "id": "4037bc88-a49c-48ff-9dd2-0c3e3b12cce0",
   "metadata": {},
   "outputs": [
    {
     "name": "stdin",
     "output_type": "stream",
     "text": [
      "Enter your time 7\n"
     ]
    },
    {
     "name": "stdout",
     "output_type": "stream",
     "text": [
      "you will get entry\n"
     ]
    }
   ],
   "source": [
    "time=int(input(\"Enter your time\"))\n",
    "if time>9 :\n",
    "    print (\"You will not get entry\")\n",
    "else:\n",
    "    print (\"you will get entry\" )"
   ]
  },
  {
   "cell_type": "code",
   "execution_count": 17,
   "id": "54242da8-3815-4b03-a1d6-8a188af3df51",
   "metadata": {},
   "outputs": [],
   "source": [
    "l=[1,2,3,4,5,6,7,8,9]"
   ]
  },
  {
   "cell_type": "code",
   "execution_count": 19,
   "id": "b771d039-d6f4-4114-80cd-f90aabc46c99",
   "metadata": {},
   "outputs": [
    {
     "data": {
      "text/plain": [
       "2"
      ]
     },
     "execution_count": 19,
     "metadata": {},
     "output_type": "execute_result"
    }
   ],
   "source": [
    "l[0]"
   ]
  },
  {
   "cell_type": "code",
   "execution_count": 20,
   "id": "c797d331-3525-49a4-b092-23bedfedd034",
   "metadata": {},
   "outputs": [
    {
     "data": {
      "text/plain": [
       "2"
      ]
     },
     "execution_count": 20,
     "metadata": {},
     "output_type": "execute_result"
    }
   ],
   "source": [
    "l[0]+1"
   ]
  },
  {
   "cell_type": "code",
   "execution_count": 21,
   "id": "ada3d777-e578-4118-9b23-52082d872a4e",
   "metadata": {},
   "outputs": [],
   "source": [
    "l1=[]"
   ]
  },
  {
   "cell_type": "code",
   "execution_count": 22,
   "id": "eeb6ec57-3cce-4279-8629-ccce5429bbb8",
   "metadata": {},
   "outputs": [],
   "source": [
    "l1.append(l[0]+1)\n",
    "        "
   ]
  },
  {
   "cell_type": "code",
   "execution_count": 23,
   "id": "d3c66d85-0cea-481f-96c2-b65eb56c4546",
   "metadata": {},
   "outputs": [
    {
     "data": {
      "text/plain": [
       "[2]"
      ]
     },
     "execution_count": 23,
     "metadata": {},
     "output_type": "execute_result"
    }
   ],
   "source": [
    "l1"
   ]
  },
  {
   "cell_type": "code",
   "execution_count": 24,
   "id": "55928f40-9025-49c1-8e5a-2c16b24ade9f",
   "metadata": {},
   "outputs": [
    {
     "data": {
      "text/plain": [
       "[1, 2, 3, 4, 5, 6, 7, 8, 9]"
      ]
     },
     "execution_count": 24,
     "metadata": {},
     "output_type": "execute_result"
    }
   ],
   "source": [
    "l"
   ]
  },
  {
   "cell_type": "code",
   "execution_count": 31,
   "id": "7dfce21a-30f3-49f7-95f6-072aa4676c54",
   "metadata": {},
   "outputs": [
    {
     "name": "stdout",
     "output_type": "stream",
     "text": [
      "2\n",
      "3\n",
      "4\n",
      "5\n",
      "6\n",
      "7\n",
      "8\n",
      "9\n",
      "10\n"
     ]
    },
    {
     "data": {
      "text/plain": [
       "[2, 3, 4, 5, 6, 7, 8, 9, 10]"
      ]
     },
     "execution_count": 31,
     "metadata": {},
     "output_type": "execute_result"
    }
   ],
   "source": [
    "l2=[]\n",
    "for i in l:\n",
    "    print  (i+1)\n",
    "    l2.append(i+1)\n",
    "l2"
   ]
  },
  {
   "cell_type": "code",
   "execution_count": 34,
   "id": "d9e45536-5fa1-4bd4-bc2d-7cddd5d4973f",
   "metadata": {},
   "outputs": [],
   "source": [
    "l3=[\"Rahul\" ,\"Singh\", \"Parihar\"]"
   ]
  },
  {
   "cell_type": "code",
   "execution_count": 37,
   "id": "e2800a9b-6377-42a4-a335-58c15d424fef",
   "metadata": {},
   "outputs": [
    {
     "name": "stdout",
     "output_type": "stream",
     "text": [
      "Rahul\n",
      "Singh\n",
      "Parihar\n"
     ]
    }
   ],
   "source": [
    "for i in l3:\n",
    "    print(i)  "
   ]
  },
  {
   "cell_type": "code",
   "execution_count": 40,
   "id": "d62e776e-8d7b-472c-99df-36c02c0d9008",
   "metadata": {},
   "outputs": [
    {
     "name": "stdout",
     "output_type": "stream",
     "text": [
      "Rahul\n",
      "Singh\n",
      "Parihar\n"
     ]
    },
    {
     "data": {
      "text/plain": [
       "['RAHUL', 'SINGH', 'PARIHAR']"
      ]
     },
     "execution_count": 40,
     "metadata": {},
     "output_type": "execute_result"
    }
   ],
   "source": [
    "l4=[]\n",
    "for i in l3:\n",
    "    print(i)\n",
    "    l4.append(i.upper())\n",
    "l4"
   ]
  },
  {
   "cell_type": "code",
   "execution_count": 43,
   "id": "5f32356f-5568-4b63-b2de-dfe677f49d6e",
   "metadata": {},
   "outputs": [],
   "source": [
    "l=[1,2,3,4,\"Rahul\" ,\"Singh\", 3555,345.86,\"Abd\"]"
   ]
  },
  {
   "cell_type": "code",
   "execution_count": 45,
   "id": "1f98146e-fae0-41b1-8551-ba53c84ad0e1",
   "metadata": {},
   "outputs": [],
   "source": [
    "l1_num=[]\n",
    "l2_str=[]\n",
    "for i in l :\n",
    "    if type(i) == int or type(i)== float :\n",
    "        l1_num.append(i)\n",
    "    else :\n",
    "        l2_str.append(i)\n",
    "        \n",
    "    "
   ]
  },
  {
   "cell_type": "code",
   "execution_count": 46,
   "id": "55cd2776-b093-49ca-a4dc-2f5b8879579d",
   "metadata": {},
   "outputs": [
    {
     "data": {
      "text/plain": [
       "[1, 2, 3, 4, 3555, 345.86]"
      ]
     },
     "execution_count": 46,
     "metadata": {},
     "output_type": "execute_result"
    }
   ],
   "source": [
    "l1_num"
   ]
  },
  {
   "cell_type": "code",
   "execution_count": 47,
   "id": "d7d8b8f0-c042-47c4-bdbf-30a86c94a620",
   "metadata": {},
   "outputs": [
    {
     "data": {
      "text/plain": [
       "['Rahul', 'Singh', 'Abd']"
      ]
     },
     "execution_count": 47,
     "metadata": {},
     "output_type": "execute_result"
    }
   ],
   "source": [
    "l2_str"
   ]
  },
  {
   "cell_type": "code",
   "execution_count": null,
   "id": "3bd76132-5321-4e20-9c1c-13b04a1edf27",
   "metadata": {},
   "outputs": [],
   "source": [
    "[] - list\n",
    "() - tuple\n",
    "{} - with flat element set\n",
    "{} - with key value pair dict\n"
   ]
  },
  {
   "cell_type": "code",
   "execution_count": 48,
   "id": "90986d2f-8be0-4b9a-adf3-d0bcd9685b19",
   "metadata": {},
   "outputs": [
    {
     "data": {
      "text/plain": [
       "1"
      ]
     },
     "execution_count": 48,
     "metadata": {},
     "output_type": "execute_result"
    }
   ],
   "source": [
    "10%3"
   ]
  },
  {
   "cell_type": "code",
   "execution_count": 49,
   "id": "c8e78dd7-9558-411e-85e5-0d72d54ced4f",
   "metadata": {},
   "outputs": [
    {
     "ename": "IndentationError",
     "evalue": "expected an indented block after 'if' statement on line 7 (3473910652.py, line 9)",
     "output_type": "error",
     "traceback": [
      "\u001b[0;36m  Cell \u001b[0;32mIn[49], line 9\u001b[0;36m\u001b[0m\n\u001b[0;31m    print(\"x is greater than y\")\u001b[0m\n\u001b[0m    ^\u001b[0m\n\u001b[0;31mIndentationError\u001b[0m\u001b[0;31m:\u001b[0m expected an indented block after 'if' statement on line 7\n"
     ]
    }
   ],
   "source": [
    "x = 5\n",
    "\n",
    "y = 2\n",
    "\n",
    " \n",
    "\n",
    "if x > y:\n",
    "\n",
    "print(\"x is greater than y\")\n",
    "\n",
    "elif x < y:\n",
    "\n",
    "print(\"x is less than y\")\n",
    "\n",
    "else:\n",
    "\n",
    "print(\"x is equal to y\")"
   ]
  },
  {
   "cell_type": "code",
   "execution_count": 50,
   "id": "fc2e3cad-a5a0-4e00-bf3f-b05d8c984346",
   "metadata": {},
   "outputs": [
    {
     "ename": "IndentationError",
     "evalue": "expected an indented block after 'for' statement on line 1 (295167912.py, line 3)",
     "output_type": "error",
     "traceback": [
      "\u001b[0;36m  Cell \u001b[0;32mIn[50], line 3\u001b[0;36m\u001b[0m\n\u001b[0;31m    if i == 2:\u001b[0m\n\u001b[0m    ^\u001b[0m\n\u001b[0;31mIndentationError\u001b[0m\u001b[0;31m:\u001b[0m expected an indented block after 'for' statement on line 1\n"
     ]
    }
   ],
   "source": [
    "for i in range(5):\n",
    "\n",
    "if i == 2:\n",
    "\n",
    "continue\n",
    "\n",
    "print(i)\n"
   ]
  },
  {
   "cell_type": "code",
   "execution_count": null,
   "id": "51f0156e-980f-4a30-8426-007afa38fe2e",
   "metadata": {},
   "outputs": [],
   "source": []
  }
 ],
 "metadata": {
  "kernelspec": {
   "display_name": "Python 3 (ipykernel)",
   "language": "python",
   "name": "python3"
  },
  "language_info": {
   "codemirror_mode": {
    "name": "ipython",
    "version": 3
   },
   "file_extension": ".py",
   "mimetype": "text/x-python",
   "name": "python",
   "nbconvert_exporter": "python",
   "pygments_lexer": "ipython3",
   "version": "3.10.8"
  }
 },
 "nbformat": 4,
 "nbformat_minor": 5
}
