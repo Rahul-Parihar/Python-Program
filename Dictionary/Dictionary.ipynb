{
 "cells": [
  {
   "cell_type": "code",
   "execution_count": 1,
   "id": "f1644ed7-95bd-477e-8bdb-0466f0d9987a",
   "metadata": {},
   "outputs": [],
   "source": [
    "d ={}"
   ]
  },
  {
   "cell_type": "code",
   "execution_count": 2,
   "id": "d6a879b5-a8d3-405a-bc8f-4c13f7117e7a",
   "metadata": {},
   "outputs": [
    {
     "data": {
      "text/plain": [
       "dict"
      ]
     },
     "execution_count": 2,
     "metadata": {},
     "output_type": "execute_result"
    }
   ],
   "source": [
    "type(d)"
   ]
  },
  {
   "cell_type": "code",
   "execution_count": 5,
   "id": "08d31baf-f6da-4b07-b3ff-137b437b6c2f",
   "metadata": {},
   "outputs": [],
   "source": [
    "d1 ={\"Name\" : \"Rahul\"}"
   ]
  },
  {
   "cell_type": "code",
   "execution_count": 6,
   "id": "d58a7692-fcb4-482a-84dd-f1274c74a98e",
   "metadata": {},
   "outputs": [
    {
     "data": {
      "text/plain": [
       "{'Name': 'Rahul'}"
      ]
     },
     "execution_count": 6,
     "metadata": {},
     "output_type": "execute_result"
    }
   ],
   "source": [
    "d1"
   ]
  },
  {
   "cell_type": "code",
   "execution_count": 7,
   "id": "921e398a-43de-4da7-8618-dbe667dccd45",
   "metadata": {},
   "outputs": [],
   "source": [
    "d2 = {\"Name\" : \"Rahul\", \"Email\" : \"rspaarihar@gmail.com\", \"Location\" : \"indore\"}"
   ]
  },
  {
   "cell_type": "code",
   "execution_count": 8,
   "id": "2ac281c3-6ac7-4b55-880d-2f8eeb3dbcf0",
   "metadata": {},
   "outputs": [
    {
     "data": {
      "text/plain": [
       "{'Name': 'Rahul', 'Email': 'rspaarihar@gmail.com', 'Location': 'indore'}"
      ]
     },
     "execution_count": 8,
     "metadata": {},
     "output_type": "execute_result"
    }
   ],
   "source": [
    "d2"
   ]
  },
  {
   "cell_type": "code",
   "execution_count": 11,
   "id": "f1a8f2d4-6a5a-4f38-8199-b25fe9987bcc",
   "metadata": {},
   "outputs": [],
   "source": [
    "d3={2566 : \"Rahul\" , \"@Singh\" : \"Parihar\" , True :54554}"
   ]
  },
  {
   "cell_type": "code",
   "execution_count": 12,
   "id": "61eed230-1289-4bd9-a222-de9789c72ed7",
   "metadata": {},
   "outputs": [
    {
     "data": {
      "text/plain": [
       "{2566: 'Rahul', '@Singh': 'Parihar', True: 54554}"
      ]
     },
     "execution_count": 12,
     "metadata": {},
     "output_type": "execute_result"
    }
   ],
   "source": [
    "d3"
   ]
  },
  {
   "cell_type": "code",
   "execution_count": 16,
   "id": "64e27455-8615-45ac-93fb-89ae4d0a9fa9",
   "metadata": {},
   "outputs": [
    {
     "data": {
      "text/plain": [
       "'Rahul'"
      ]
     },
     "execution_count": 16,
     "metadata": {},
     "output_type": "execute_result"
    }
   ],
   "source": [
    "d3[2566]"
   ]
  },
  {
   "cell_type": "code",
   "execution_count": 17,
   "id": "c83948d8-1268-410f-bffa-4a0c6c3e5753",
   "metadata": {},
   "outputs": [
    {
     "data": {
      "text/plain": [
       "54554"
      ]
     },
     "execution_count": 17,
     "metadata": {},
     "output_type": "execute_result"
    }
   ],
   "source": [
    "d3[1]"
   ]
  },
  {
   "cell_type": "code",
   "execution_count": 19,
   "id": "98e11c34-1835-4287-9ad1-23449081419c",
   "metadata": {},
   "outputs": [
    {
     "data": {
      "text/plain": [
       "'Parihar'"
      ]
     },
     "execution_count": 19,
     "metadata": {},
     "output_type": "execute_result"
    }
   ],
   "source": [
    "d3[\"@Singh\"]"
   ]
  },
  {
   "cell_type": "code",
   "execution_count": 20,
   "id": "8b3d8ef8-17b1-4dba-beae-9e6e465fedef",
   "metadata": {},
   "outputs": [],
   "source": [
    "d4={'name': 'Rahul' , 'mail id':'rsp@gmail.com', 'name': 'rahul singh'}"
   ]
  },
  {
   "cell_type": "code",
   "execution_count": 22,
   "id": "907ac683-be72-4df3-92e2-529b79ae0aeb",
   "metadata": {},
   "outputs": [
    {
     "data": {
      "text/plain": [
       "'rahul singh'"
      ]
     },
     "execution_count": 22,
     "metadata": {},
     "output_type": "execute_result"
    }
   ],
   "source": [
    "d4[\"name\"]"
   ]
  },
  {
   "cell_type": "code",
   "execution_count": 23,
   "id": "37673701-f7b4-40cb-9227-dd7864f6de38",
   "metadata": {},
   "outputs": [],
   "source": [
    "d5={'Company' : 'jsw' , 'Department':['infornation technology','production','mechnical','elctrical']}"
   ]
  },
  {
   "cell_type": "code",
   "execution_count": 25,
   "id": "753c4c9d-5346-40d8-aed4-304428906481",
   "metadata": {},
   "outputs": [
    {
     "data": {
      "text/plain": [
       "{'Company': 'jsw',\n",
       " 'Department': ['infornation technology',\n",
       "  'production',\n",
       "  'mechnical',\n",
       "  'elctrical']}"
      ]
     },
     "execution_count": 25,
     "metadata": {},
     "output_type": "execute_result"
    }
   ],
   "source": [
    "d5"
   ]
  },
  {
   "cell_type": "code",
   "execution_count": 27,
   "id": "df73bf08-77ad-45c0-92e1-3d3c40970158",
   "metadata": {},
   "outputs": [
    {
     "data": {
      "text/plain": [
       "'infornation technology'"
      ]
     },
     "execution_count": 27,
     "metadata": {},
     "output_type": "execute_result"
    }
   ],
   "source": [
    "d5['Department'][0]"
   ]
  },
  {
   "cell_type": "code",
   "execution_count": 4,
   "id": "f49b68a6-05bb-4284-bf3e-91c9115e7a49",
   "metadata": {},
   "outputs": [],
   "source": [
    "d6={'number':[45,45,6,55,2],'assinment':(4,3,4,7,2),'birth date':{20,8,2998},'Shift time' :{'a shift':7,'b shift':3,'c shift':11}}"
   ]
  },
  {
   "cell_type": "code",
   "execution_count": 32,
   "id": "dfe12c2a-4f1b-4dc0-b15d-6df0673a180b",
   "metadata": {},
   "outputs": [
    {
     "data": {
      "text/plain": [
       "{'number': [45, 45, 6, 55, 2],\n",
       " 'assinment': (4, 3, 4, 7, 2),\n",
       " 'birth date': {8, 20, 2998},\n",
       " 'Shift time': {'a shift': 7, 'b shift': 3, 'c shift': 11}}"
      ]
     },
     "execution_count": 32,
     "metadata": {},
     "output_type": "execute_result"
    }
   ],
   "source": [
    "d6"
   ]
  },
  {
   "cell_type": "code",
   "execution_count": 36,
   "id": "df668b7e-78f6-49e7-9c4f-b5913dacad37",
   "metadata": {},
   "outputs": [
    {
     "data": {
      "text/plain": [
       "11"
      ]
     },
     "execution_count": 36,
     "metadata": {},
     "output_type": "execute_result"
    }
   ],
   "source": [
    "d6['Shift time']['c shift']"
   ]
  },
  {
   "cell_type": "code",
   "execution_count": 37,
   "id": "8b93d354-6227-4a8a-8306-2b645b651a08",
   "metadata": {},
   "outputs": [],
   "source": [
    "d6['shift incharge']=['Nitesh', 'Vinod', 'sharad']"
   ]
  },
  {
   "cell_type": "code",
   "execution_count": 5,
   "id": "fbd0b7be-ffe9-4b4d-960b-64e30cfe350d",
   "metadata": {},
   "outputs": [
    {
     "data": {
      "text/plain": [
       "{'number': [45, 45, 6, 55, 2],\n",
       " 'assinment': (4, 3, 4, 7, 2),\n",
       " 'birth date': {8, 20, 2998},\n",
       " 'Shift time': {'a shift': 7, 'b shift': 3, 'c shift': 11}}"
      ]
     },
     "execution_count": 5,
     "metadata": {},
     "output_type": "execute_result"
    }
   ],
   "source": [
    "d6"
   ]
  },
  {
   "cell_type": "code",
   "execution_count": 39,
   "id": "1fb64e2e-076b-4976-a96b-d8f9d8c854e3",
   "metadata": {},
   "outputs": [],
   "source": [
    "del d6['number']"
   ]
  },
  {
   "cell_type": "code",
   "execution_count": 3,
   "id": "af0870ce-c0f4-40a7-8725-45b9c3623ef1",
   "metadata": {},
   "outputs": [
    {
     "ename": "NameError",
     "evalue": "name 'd6' is not defined",
     "output_type": "error",
     "traceback": [
      "\u001b[0;31m---------------------------------------------------------------------------\u001b[0m",
      "\u001b[0;31mNameError\u001b[0m                                 Traceback (most recent call last)",
      "Cell \u001b[0;32mIn[3], line 1\u001b[0m\n\u001b[0;32m----> 1\u001b[0m \u001b[43md6\u001b[49m\n",
      "\u001b[0;31mNameError\u001b[0m: name 'd6' is not defined"
     ]
    }
   ],
   "source": [
    "d6"
   ]
  },
  {
   "cell_type": "code",
   "execution_count": 41,
   "id": "32bbdf4b-3533-4456-ae40-8e2286ffeac0",
   "metadata": {},
   "outputs": [
    {
     "data": {
      "text/plain": [
       "dict_keys(['assinment', 'birth date', 'Shift time', 'shift incharge'])"
      ]
     },
     "execution_count": 41,
     "metadata": {},
     "output_type": "execute_result"
    }
   ],
   "source": [
    "d6.keys()"
   ]
  },
  {
   "cell_type": "code",
   "execution_count": 43,
   "id": "4f6df88c-b3dc-49cd-80f1-a2ea765bd329",
   "metadata": {},
   "outputs": [
    {
     "data": {
      "text/plain": [
       "['assinment', 'birth date', 'Shift time', 'shift incharge']"
      ]
     },
     "execution_count": 43,
     "metadata": {},
     "output_type": "execute_result"
    }
   ],
   "source": [
    "list(d6.keys())"
   ]
  },
  {
   "cell_type": "markdown",
   "id": "9abffafb-0d4b-4cf3-a8ed-8eba71ae711c",
   "metadata": {},
   "source": [
    "###### d6.values()"
   ]
  },
  {
   "cell_type": "code",
   "execution_count": 45,
   "id": "c2a9a885-3a35-465b-831b-169b2c50b7f3",
   "metadata": {},
   "outputs": [
    {
     "data": {
      "text/plain": [
       "[(4, 3, 4, 7, 2),\n",
       " {8, 20, 2998},\n",
       " {'a shift': 7, 'b shift': 3, 'c shift': 11},\n",
       " ['Nitesh', 'Vinod', 'sharad']]"
      ]
     },
     "execution_count": 45,
     "metadata": {},
     "output_type": "execute_result"
    }
   ],
   "source": [
    "list(d6.values())"
   ]
  },
  {
   "cell_type": "code",
   "execution_count": 46,
   "id": "c0e40ba6-f75b-45db-aa74-e2299d999a14",
   "metadata": {},
   "outputs": [
    {
     "data": {
      "text/plain": [
       "dict_items([('assinment', (4, 3, 4, 7, 2)), ('birth date', {8, 20, 2998}), ('Shift time', {'a shift': 7, 'b shift': 3, 'c shift': 11}), ('shift incharge', ['Nitesh', 'Vinod', 'sharad'])])"
      ]
     },
     "execution_count": 46,
     "metadata": {},
     "output_type": "execute_result"
    }
   ],
   "source": [
    "d6.items()"
   ]
  },
  {
   "cell_type": "code",
   "execution_count": 48,
   "id": "0630eae5-0fbe-4840-9347-0d1d7f9e141d",
   "metadata": {},
   "outputs": [
    {
     "data": {
      "text/plain": [
       "[('assinment', (4, 3, 4, 7, 2)),\n",
       " ('birth date', {8, 20, 2998}),\n",
       " ('Shift time', {'a shift': 7, 'b shift': 3, 'c shift': 11}),\n",
       " ('shift incharge', ['Nitesh', 'Vinod', 'sharad'])]"
      ]
     },
     "execution_count": 48,
     "metadata": {},
     "output_type": "execute_result"
    }
   ],
   "source": [
    "list(d6.items())"
   ]
  },
  {
   "cell_type": "code",
   "execution_count": 49,
   "id": "e6dba2ad-5fa8-4632-8f6a-70919b5700f7",
   "metadata": {},
   "outputs": [
    {
     "data": {
      "text/plain": [
       "(4, 3, 4, 7, 2)"
      ]
     },
     "execution_count": 49,
     "metadata": {},
     "output_type": "execute_result"
    }
   ],
   "source": [
    "d6.pop('assinment')"
   ]
  },
  {
   "cell_type": "code",
   "execution_count": 50,
   "id": "7580819e-11da-4709-82e7-c01b42db8f94",
   "metadata": {},
   "outputs": [
    {
     "data": {
      "text/plain": [
       "{'birth date': {8, 20, 2998},\n",
       " 'Shift time': {'a shift': 7, 'b shift': 3, 'c shift': 11},\n",
       " 'shift incharge': ['Nitesh', 'Vinod', 'sharad']}"
      ]
     },
     "execution_count": 50,
     "metadata": {},
     "output_type": "execute_result"
    }
   ],
   "source": [
    "d6"
   ]
  },
  {
   "cell_type": "code",
   "execution_count": null,
   "id": "e63b493c-8d1d-4a8c-bc10-17f657e205ff",
   "metadata": {},
   "outputs": [],
   "source": [
    "d6.pop()"
   ]
  },
  {
   "cell_type": "code",
   "execution_count": 2,
   "id": "10dd92ba-ba7e-4a4b-a25b-fa0f7ab6ae65",
   "metadata": {},
   "outputs": [
    {
     "name": "stdin",
     "output_type": "stream",
     "text": [
      "Enter your grade 8\n"
     ]
    },
    {
     "name": "stdout",
     "output_type": "stream",
     "text": [
      "Your salary is not defined yet. Please wait for some time\n"
     ]
    }
   ],
   "source": [
    "grade = input(\"Enter your grade\")\n",
    "\n",
    "if grade == 2:\n",
    "    print(\"Your salary should be more than 20000\")\n",
    "elif grade == 3:\n",
    "    print(\"Your salary should be 35000\")\n",
    "elif grade == 4:\n",
    "    print(\"Your salary should be 45000\")\n",
    "else:\n",
    "    print(\"Your salary is not defined yet. Please wait for some time\")"
   ]
  },
  {
   "cell_type": "code",
   "execution_count": null,
   "id": "b6ae444d-fed4-44fb-9bdd-c20688fc59b3",
   "metadata": {},
   "outputs": [],
   "source": []
  }
 ],
 "metadata": {
  "kernelspec": {
   "display_name": "Python 3 (ipykernel)",
   "language": "python",
   "name": "python3"
  },
  "language_info": {
   "codemirror_mode": {
    "name": "ipython",
    "version": 3
   },
   "file_extension": ".py",
   "mimetype": "text/x-python",
   "name": "python",
   "nbconvert_exporter": "python",
   "pygments_lexer": "ipython3",
   "version": "3.10.8"
  }
 },
 "nbformat": 4,
 "nbformat_minor": 5
}
