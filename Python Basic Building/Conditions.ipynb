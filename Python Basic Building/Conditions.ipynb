{
  "nbformat": 4,
  "nbformat_minor": 0,
  "metadata": {
    "colab": {
      "provenance": []
    },
    "kernelspec": {
      "name": "python3",
      "display_name": "Python 3"
    },
    "language_info": {
      "name": "python"
    }
  },
  "cells": [
    {
      "cell_type": "code",
      "execution_count": null,
      "metadata": {
        "id": "x6C_qkvUfk1m"
      },
      "outputs": [],
      "source": [
        "a=9\n",
        "if a>9 :\n",
        "  print (\"Yes a is grater than 10\")\n"
      ]
    },
    {
      "cell_type": "code",
      "source": [
        "a>9"
      ],
      "metadata": {
        "colab": {
          "base_uri": "https://localhost:8080/"
        },
        "id": "Di4mDiRhgvpw",
        "outputId": "9b4f15ce-eeee-4aba-d2ae-644fc0c56816"
      },
      "execution_count": null,
      "outputs": [
        {
          "output_type": "execute_result",
          "data": {
            "text/plain": [
              "False"
            ]
          },
          "metadata": {},
          "execution_count": 3
        }
      ]
    },
    {
      "cell_type": "code",
      "source": [
        "a=9\n",
        "if a>=9 :\n",
        "  print (\"Yes a is grater than 10\")\n"
      ],
      "metadata": {
        "colab": {
          "base_uri": "https://localhost:8080/"
        },
        "id": "9i1WqDJ_g0gY",
        "outputId": "1dd3f671-aa8d-4c1e-ed4d-d76ce92197c5"
      },
      "execution_count": null,
      "outputs": [
        {
          "output_type": "stream",
          "name": "stdout",
          "text": [
            "Yes a is grater than 10\n"
          ]
        }
      ]
    },
    {
      "cell_type": "code",
      "source": [
        "a>=9"
      ],
      "metadata": {
        "colab": {
          "base_uri": "https://localhost:8080/"
        },
        "id": "YgtPgTYNg5zK",
        "outputId": "10a8ab13-ce58-4421-df1d-b1d8ee13e1c9"
      },
      "execution_count": null,
      "outputs": [
        {
          "output_type": "execute_result",
          "data": {
            "text/plain": [
              "True"
            ]
          },
          "metadata": {},
          "execution_count": 5
        }
      ]
    },
    {
      "cell_type": "code",
      "source": [
        "b=int (input())\n",
        "if b>20 :\n",
        "  print(\"yes b is greater than 30 \")\n",
        "elif b<30 :\n",
        "  print (\"b is less than 30\")\n",
        "else :\n",
        "    print (\"this my defaults\")\n",
        "\n"
      ],
      "metadata": {
        "colab": {
          "base_uri": "https://localhost:8080/"
        },
        "id": "cgavjTzyhm6W",
        "outputId": "2ed55224-3c0a-4525-c08b-7e77d4fce678"
      },
      "execution_count": null,
      "outputs": [
        {
          "output_type": "stream",
          "name": "stdout",
          "text": [
            "10\n",
            "b is less than 30\n"
          ]
        }
      ]
    },
    {
      "cell_type": "code",
      "source": [
        "input()"
      ],
      "metadata": {
        "colab": {
          "base_uri": "https://localhost:8080/",
          "height": 53
        },
        "id": "SJda7tgE1Am8",
        "outputId": "d500a923-e7e6-4f55-c274-8b95ffc4ebcf"
      },
      "execution_count": null,
      "outputs": [
        {
          "name": "stdout",
          "output_type": "stream",
          "text": [
            "342\n"
          ]
        },
        {
          "output_type": "execute_result",
          "data": {
            "text/plain": [
              "'342'"
            ],
            "application/vnd.google.colaboratory.intrinsic+json": {
              "type": "string"
            }
          },
          "metadata": {},
          "execution_count": 8
        }
      ]
    },
    {
      "cell_type": "code",
      "source": [
        "b=int (input())"
      ],
      "metadata": {
        "colab": {
          "base_uri": "https://localhost:8080/"
        },
        "id": "s-erTONT1hoU",
        "outputId": "936b23d4-c02e-42b7-f806-51380a134cd1"
      },
      "execution_count": null,
      "outputs": [
        {
          "name": "stdout",
          "output_type": "stream",
          "text": [
            "35\n"
          ]
        }
      ]
    },
    {
      "cell_type": "code",
      "source": [
        "n=5\n",
        "i=1\n",
        "while i < n :\n",
        "  print (i)\n",
        "  i=i+1"
      ],
      "metadata": {
        "colab": {
          "base_uri": "https://localhost:8080/"
        },
        "id": "UPJdMkPrEaqz",
        "outputId": "59061b1e-921b-42a6-af23-c672bf0fefcf"
      },
      "execution_count": null,
      "outputs": [
        {
          "output_type": "stream",
          "name": "stdout",
          "text": [
            "1\n",
            "2\n",
            "3\n",
            "4\n"
          ]
        }
      ]
    },
    {
      "cell_type": "code",
      "source": [
        "n=5\n",
        "i=1\n",
        "while i < n :\n",
        "  print (i)\n",
        "  i=i+1\n",
        "else :\n",
        "  print(\"this my else\")"
      ],
      "metadata": {
        "colab": {
          "base_uri": "https://localhost:8080/"
        },
        "id": "9EqLT2lYFRc1",
        "outputId": "341b9beb-23a8-4af8-94c7-31a7e6588f87"
      },
      "execution_count": null,
      "outputs": [
        {
          "output_type": "stream",
          "name": "stdout",
          "text": [
            "1\n",
            "2\n",
            "3\n",
            "4\n",
            "this my else\n"
          ]
        }
      ]
    },
    {
      "cell_type": "code",
      "source": [
        "n=5\n",
        "i=1\n",
        "while i < n :\n",
        "  print (i)\n",
        "  i=i+1\n",
        "  if i==4 :\n",
        "   break\n",
        "else :\n",
        "  print(\"this my else\")"
      ],
      "metadata": {
        "colab": {
          "base_uri": "https://localhost:8080/"
        },
        "id": "bfCynz75Fy3f",
        "outputId": "9497b698-6edb-4bfc-f793-3bce68c2dfec"
      },
      "execution_count": null,
      "outputs": [
        {
          "output_type": "stream",
          "name": "stdout",
          "text": [
            "1\n",
            "2\n",
            "3\n"
          ]
        }
      ]
    },
    {
      "cell_type": "code",
      "source": [
        "n=\"name\"\n",
        "for n in n :\n",
        "  print(n)\n"
      ],
      "metadata": {
        "colab": {
          "base_uri": "https://localhost:8080/"
        },
        "id": "a6KSliRvIsC_",
        "outputId": "fafd0d00-6dde-4fd1-b61b-5f5b3a09ea47"
      },
      "execution_count": null,
      "outputs": [
        {
          "output_type": "stream",
          "name": "stdout",
          "text": [
            "n\n",
            "a\n",
            "m\n",
            "e\n"
          ]
        }
      ]
    },
    {
      "cell_type": "code",
      "source": [
        "l=[2,8,9,5, \"Rahul\",\"skills\",2.86, False]\n",
        "for i in l :\n",
        "  print(type(i))"
      ],
      "metadata": {
        "colab": {
          "base_uri": "https://localhost:8080/"
        },
        "id": "zqhQi1p89dow",
        "outputId": "5ec6267d-72dc-4c45-e15f-fc2a2c2e6e19"
      },
      "execution_count": null,
      "outputs": [
        {
          "output_type": "stream",
          "name": "stdout",
          "text": [
            "<class 'int'>\n",
            "<class 'int'>\n",
            "<class 'int'>\n",
            "<class 'int'>\n",
            "<class 'str'>\n",
            "<class 'str'>\n",
            "<class 'float'>\n",
            "<class 'bool'>\n"
          ]
        }
      ]
    },
    {
      "cell_type": "code",
      "source": [
        "for i in l :\n",
        "  print(type(i))\n",
        "else :\n",
        "  print(\"this will be excuted once for loop wii=ll be complted itself succefully\")"
      ],
      "metadata": {
        "colab": {
          "base_uri": "https://localhost:8080/"
        },
        "id": "ADPrKqG8-RT5",
        "outputId": "77c6fe83-1e7e-4fec-c516-f93dc5253fe6"
      },
      "execution_count": null,
      "outputs": [
        {
          "output_type": "stream",
          "name": "stdout",
          "text": [
            "<class 'int'>\n",
            "<class 'int'>\n",
            "<class 'int'>\n",
            "<class 'int'>\n",
            "<class 'str'>\n",
            "<class 'str'>\n",
            "<class 'float'>\n",
            "<class 'bool'>\n",
            "this will be excuted once for loop wii=ll be complted itself succefully\n"
          ]
        }
      ]
    },
    {
      "cell_type": "code",
      "source": [
        "for i in l :\n",
        "  print(type(i))\n",
        "  if i==9 :\n",
        "    break\n",
        "else :\n",
        "  print(\"this will be excuted once for loop wii=ll be complted itself succefully\")"
      ],
      "metadata": {
        "colab": {
          "base_uri": "https://localhost:8080/"
        },
        "id": "7OFD18yC-qaY",
        "outputId": "d74f1ce8-bb20-4080-f59d-4dbd96875fde"
      },
      "execution_count": null,
      "outputs": [
        {
          "output_type": "stream",
          "name": "stdout",
          "text": [
            "<class 'int'>\n",
            "<class 'int'>\n",
            "<class 'int'>\n"
          ]
        }
      ]
    },
    {
      "cell_type": "code",
      "source": [
        "for i in l :\n",
        "  print(type(i))\n",
        "  if i==9 :\n",
        "    continue\n",
        "  print(i)\n",
        "else :\n",
        "  print(\"this will be excuted once for loop wii=ll be complted itself succefully\")"
      ],
      "metadata": {
        "colab": {
          "base_uri": "https://localhost:8080/"
        },
        "id": "uVTCSMHR_MPA",
        "outputId": "9018e8b9-1bb8-4eaa-a160-e0a121f47e1a"
      },
      "execution_count": null,
      "outputs": [
        {
          "output_type": "stream",
          "name": "stdout",
          "text": [
            "<class 'int'>\n",
            "2\n",
            "<class 'int'>\n",
            "8\n",
            "<class 'int'>\n",
            "<class 'int'>\n",
            "5\n",
            "<class 'str'>\n",
            "Rahul\n",
            "<class 'str'>\n",
            "skills\n",
            "<class 'float'>\n",
            "2.86\n",
            "<class 'bool'>\n",
            "False\n",
            "this will be excuted once for loop wii=ll be complted itself succefully\n"
          ]
        }
      ]
    },
    {
      "cell_type": "code",
      "source": [
        "range(12)\n",
        "list(range(12))"
      ],
      "metadata": {
        "colab": {
          "base_uri": "https://localhost:8080/"
        },
        "id": "fK35pQt6AME3",
        "outputId": "b8d68450-94ed-4033-f369-0b93306250bf"
      },
      "execution_count": null,
      "outputs": [
        {
          "output_type": "execute_result",
          "data": {
            "text/plain": [
              "[0, 1, 2, 3, 4, 5, 6, 7, 8, 9, 10, 11]"
            ]
          },
          "metadata": {},
          "execution_count": 14
        }
      ]
    }
  ]
}