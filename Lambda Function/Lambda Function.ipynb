{
 "cells": [
  {
   "cell_type": "code",
   "execution_count": 1,
   "id": "96813e83-e04e-4bfb-8cb0-d903a6381f8d",
   "metadata": {},
   "outputs": [],
   "source": [
    "n=3\n",
    "p=2"
   ]
  },
  {
   "cell_type": "code",
   "execution_count": 2,
   "id": "6d23e297-3217-47a7-9f0c-ef57e073cde3",
   "metadata": {},
   "outputs": [],
   "source": [
    "def test(n,p):\n",
    "    return n**p"
   ]
  },
  {
   "cell_type": "code",
   "execution_count": 3,
   "id": "e41bed8c-2ee4-49b9-8d09-38fc8e4f1303",
   "metadata": {},
   "outputs": [
    {
     "data": {
      "text/plain": [
       "9"
      ]
     },
     "execution_count": 3,
     "metadata": {},
     "output_type": "execute_result"
    }
   ],
   "source": [
    "test(3,2)"
   ]
  },
  {
   "cell_type": "code",
   "execution_count": 4,
   "id": "3df1e4f4-ad5d-403b-949d-fa17c9e22cca",
   "metadata": {},
   "outputs": [
    {
     "data": {
      "text/plain": [
       "<function __main__.<lambda>(n, p)>"
      ]
     },
     "execution_count": 4,
     "metadata": {},
     "output_type": "execute_result"
    }
   ],
   "source": [
    "lambda n,p : n**p"
   ]
  },
  {
   "cell_type": "code",
   "execution_count": 5,
   "id": "874efe15-17e3-4414-be5a-2eda2346a444",
   "metadata": {},
   "outputs": [],
   "source": [
    "a=lambda n,p : n**p"
   ]
  },
  {
   "cell_type": "code",
   "execution_count": 6,
   "id": "e409d543-8689-48f0-af04-627bdc521552",
   "metadata": {},
   "outputs": [
    {
     "data": {
      "text/plain": [
       "27"
      ]
     },
     "execution_count": 6,
     "metadata": {},
     "output_type": "execute_result"
    }
   ],
   "source": [
    "a(3,3)"
   ]
  },
  {
   "cell_type": "code",
   "execution_count": 8,
   "id": "36c86f87-dc81-4e42-95a0-a8efbb08ae10",
   "metadata": {},
   "outputs": [],
   "source": [
    "add = lambda x,y :x+y"
   ]
  },
  {
   "cell_type": "code",
   "execution_count": 9,
   "id": "0cfd7924-4115-4e86-808d-ec89b80449e2",
   "metadata": {},
   "outputs": [
    {
     "data": {
      "text/plain": [
       "109"
      ]
     },
     "execution_count": 9,
     "metadata": {},
     "output_type": "execute_result"
    }
   ],
   "source": [
    "add(35,74)"
   ]
  },
  {
   "cell_type": "code",
   "execution_count": 10,
   "id": "4ddd4dfc-af09-4ec1-b365-c646b0b8a7db",
   "metadata": {},
   "outputs": [],
   "source": [
    "c_to_f= lambda c:(9/5)*c+32"
   ]
  },
  {
   "cell_type": "code",
   "execution_count": 11,
   "id": "f2fb881d-0427-4d5f-a92c-c9b497293946",
   "metadata": {},
   "outputs": [
    {
     "data": {
      "text/plain": [
       "113.0"
      ]
     },
     "execution_count": 11,
     "metadata": {},
     "output_type": "execute_result"
    }
   ],
   "source": [
    "c_to_f(45)"
   ]
  },
  {
   "cell_type": "code",
   "execution_count": 12,
   "id": "0a585701-13c5-4a6e-8905-f5cd1c143a2d",
   "metadata": {},
   "outputs": [],
   "source": [
    "# Finding a maximum of two number using lambda function"
   ]
  },
  {
   "cell_type": "code",
   "execution_count": 13,
   "id": "d968b620-092b-4735-af19-7d791f28aa2e",
   "metadata": {},
   "outputs": [],
   "source": [
    "finding_max =lambda x,y : x if x>y else y"
   ]
  },
  {
   "cell_type": "code",
   "execution_count": 15,
   "id": "1eb670cb-cf19-415c-9e28-14889740f9dc",
   "metadata": {},
   "outputs": [
    {
     "data": {
      "text/plain": [
       "78"
      ]
     },
     "execution_count": 15,
     "metadata": {},
     "output_type": "execute_result"
    }
   ],
   "source": [
    "finding_max(45,78)"
   ]
  },
  {
   "cell_type": "code",
   "execution_count": 16,
   "id": "77c014bf-7bf1-4353-a09e-4ae7280ec1ad",
   "metadata": {},
   "outputs": [],
   "source": [
    "s=\"String\""
   ]
  },
  {
   "cell_type": "code",
   "execution_count": 17,
   "id": "e5691f9e-23d0-44eb-bb55-43e14fd813fa",
   "metadata": {},
   "outputs": [],
   "source": [
    "find_len= lambda s :len(s)"
   ]
  },
  {
   "cell_type": "code",
   "execution_count": 18,
   "id": "5a0b2f62-aeb9-428d-b184-94443a61ebef",
   "metadata": {},
   "outputs": [
    {
     "data": {
      "text/plain": [
       "6"
      ]
     },
     "execution_count": 18,
     "metadata": {},
     "output_type": "execute_result"
    }
   ],
   "source": [
    "find_len(s)"
   ]
  },
  {
   "cell_type": "code",
   "execution_count": null,
   "id": "52a5bc99-a638-4005-801b-8a9be29dfbaf",
   "metadata": {},
   "outputs": [],
   "source": []
  }
 ],
 "metadata": {
  "kernelspec": {
   "display_name": "Python 3 (ipykernel)",
   "language": "python",
   "name": "python3"
  },
  "language_info": {
   "codemirror_mode": {
    "name": "ipython",
    "version": 3
   },
   "file_extension": ".py",
   "mimetype": "text/x-python",
   "name": "python",
   "nbconvert_exporter": "python",
   "pygments_lexer": "ipython3",
   "version": "3.10.8"
  }
 },
 "nbformat": 4,
 "nbformat_minor": 5
}
