{
 "cells": [
  {
   "cell_type": "code",
   "execution_count": 1,
   "id": "fc45836b-19cf-4aa1-87c5-c96363440d16",
   "metadata": {},
   "outputs": [
    {
     "name": "stdout",
     "output_type": "stream",
     "text": [
      "this is a function for print\n"
     ]
    }
   ],
   "source": [
    "print (\"this is a function for print\")"
   ]
  },
  {
   "cell_type": "code",
   "execution_count": 3,
   "id": "7ab8be1e-88db-4b86-bdab-39f5e5d16292",
   "metadata": {},
   "outputs": [],
   "source": [
    "l=[25,6,5]"
   ]
  },
  {
   "cell_type": "code",
   "execution_count": 4,
   "id": "638bb7e0-9063-4eb3-91e6-0f42e45061ed",
   "metadata": {},
   "outputs": [
    {
     "data": {
      "text/plain": [
       "3"
      ]
     },
     "execution_count": 4,
     "metadata": {},
     "output_type": "execute_result"
    }
   ],
   "source": [
    "len(l)"
   ]
  },
  {
   "cell_type": "code",
   "execution_count": 5,
   "id": "40c76919-5df7-4518-873f-95637718e2de",
   "metadata": {},
   "outputs": [
    {
     "data": {
      "text/plain": [
       "list"
      ]
     },
     "execution_count": 5,
     "metadata": {},
     "output_type": "execute_result"
    }
   ],
   "source": [
    "type(l)"
   ]
  },
  {
   "cell_type": "code",
   "execution_count": 6,
   "id": "f967be0b-0bd6-4b2b-b0ae-cc6ad2f5603d",
   "metadata": {},
   "outputs": [],
   "source": [
    "def test():\n",
    "    pass"
   ]
  },
  {
   "cell_type": "code",
   "execution_count": 7,
   "id": "45394704-fd5c-4852-bb4d-e7a521f1ada8",
   "metadata": {},
   "outputs": [],
   "source": [
    "def test1():\n",
    "    print(\"this is my first fuction\")"
   ]
  },
  {
   "cell_type": "code",
   "execution_count": 9,
   "id": "5f21edfc-f1c2-4dfd-9a26-64c90e508cb4",
   "metadata": {},
   "outputs": [
    {
     "name": "stdout",
     "output_type": "stream",
     "text": [
      "this is my first fuction\n"
     ]
    }
   ],
   "source": [
    "test1()"
   ]
  },
  {
   "cell_type": "code",
   "execution_count": 10,
   "id": "a901d3b4-1363-4187-a906-a30612df5d7f",
   "metadata": {},
   "outputs": [
    {
     "name": "stdout",
     "output_type": "stream",
     "text": [
      "this is my first fuction\n"
     ]
    },
    {
     "ename": "TypeError",
     "evalue": "unsupported operand type(s) for +: 'NoneType' and 'str'",
     "output_type": "error",
     "traceback": [
      "\u001b[0;31m---------------------------------------------------------------------------\u001b[0m",
      "\u001b[0;31mTypeError\u001b[0m                                 Traceback (most recent call last)",
      "Cell \u001b[0;32mIn[10], line 1\u001b[0m\n\u001b[0;32m----> 1\u001b[0m \u001b[43mtest1\u001b[49m\u001b[43m(\u001b[49m\u001b[43m)\u001b[49m\u001b[38;5;241;43m+\u001b[39;49m\u001b[38;5;124;43m\"\u001b[39;49m\u001b[38;5;124;43mRahul\u001b[39;49m\u001b[38;5;124;43m\"\u001b[39;49m\n",
      "\u001b[0;31mTypeError\u001b[0m: unsupported operand type(s) for +: 'NoneType' and 'str'"
     ]
    }
   ],
   "source": [
    "test1()+\"Rahul\""
   ]
  },
  {
   "cell_type": "code",
   "execution_count": 17,
   "id": "1dd4959f-5a53-4c30-a86f-a9a2c27f1ceb",
   "metadata": {},
   "outputs": [],
   "source": [
    "def test2 ():\n",
    "    return\"This is first return \""
   ]
  },
  {
   "cell_type": "code",
   "execution_count": 18,
   "id": "a10a2377-25ea-4a65-a23e-467eec8c2c78",
   "metadata": {},
   "outputs": [
    {
     "data": {
      "text/plain": [
       "'This is first return '"
      ]
     },
     "execution_count": 18,
     "metadata": {},
     "output_type": "execute_result"
    }
   ],
   "source": [
    "test2()"
   ]
  },
  {
   "cell_type": "code",
   "execution_count": 19,
   "id": "bb7df021-420f-49d9-8857-f484aed8d40e",
   "metadata": {},
   "outputs": [
    {
     "data": {
      "text/plain": [
       "'This is first return Rahul'"
      ]
     },
     "execution_count": 19,
     "metadata": {},
     "output_type": "execute_result"
    }
   ],
   "source": [
    "test2() + \"Rahul\""
   ]
  },
  {
   "cell_type": "code",
   "execution_count": 20,
   "id": "9a094a31-6662-4887-a188-bfa5192ce902",
   "metadata": {},
   "outputs": [],
   "source": [
    "def test3():\n",
    "    return \"Singh\" ,234,43.45,[23,456,23]"
   ]
  },
  {
   "cell_type": "code",
   "execution_count": 21,
   "id": "edc6bb5c-0a78-49fb-8f6c-0f151e078c74",
   "metadata": {},
   "outputs": [
    {
     "data": {
      "text/plain": [
       "('Singh', 234, 43.45, [23, 456, 23])"
      ]
     },
     "execution_count": 21,
     "metadata": {},
     "output_type": "execute_result"
    }
   ],
   "source": [
    "test3()"
   ]
  },
  {
   "cell_type": "code",
   "execution_count": 22,
   "id": "7d378707-946d-4e35-afd2-2ac9f4e054da",
   "metadata": {},
   "outputs": [],
   "source": [
    "a,b,c,d=test3()"
   ]
  },
  {
   "cell_type": "code",
   "execution_count": 23,
   "id": "93430de2-54f9-43d7-a704-edce9562a7bd",
   "metadata": {},
   "outputs": [
    {
     "data": {
      "text/plain": [
       "'Singh'"
      ]
     },
     "execution_count": 23,
     "metadata": {},
     "output_type": "execute_result"
    }
   ],
   "source": [
    "a"
   ]
  },
  {
   "cell_type": "code",
   "execution_count": 24,
   "id": "0be8a133-2322-4e36-acd5-898d94755425",
   "metadata": {},
   "outputs": [
    {
     "data": {
      "text/plain": [
       "234"
      ]
     },
     "execution_count": 24,
     "metadata": {},
     "output_type": "execute_result"
    }
   ],
   "source": [
    "b"
   ]
  },
  {
   "cell_type": "code",
   "execution_count": 25,
   "id": "5ce4a248-1315-439b-9a55-2d1239a2e691",
   "metadata": {},
   "outputs": [
    {
     "data": {
      "text/plain": [
       "43.45"
      ]
     },
     "execution_count": 25,
     "metadata": {},
     "output_type": "execute_result"
    }
   ],
   "source": [
    "c"
   ]
  },
  {
   "cell_type": "code",
   "execution_count": 27,
   "id": "c7ed8ae0-070f-4631-b022-03f06ba7614a",
   "metadata": {},
   "outputs": [
    {
     "data": {
      "text/plain": [
       "[23, 456, 23]"
      ]
     },
     "execution_count": 27,
     "metadata": {},
     "output_type": "execute_result"
    }
   ],
   "source": [
    "d"
   ]
  },
  {
   "cell_type": "code",
   "execution_count": 28,
   "id": "10aa0eb0-c802-4dfb-8f25-26788911225a",
   "metadata": {},
   "outputs": [],
   "source": [
    "def test4():\n",
    "    a=5+6/7\n",
    "    return a"
   ]
  },
  {
   "cell_type": "code",
   "execution_count": 29,
   "id": "0932a776-63d1-487f-9b40-38d409b1a6da",
   "metadata": {},
   "outputs": [
    {
     "data": {
      "text/plain": [
       "5.857142857142857"
      ]
     },
     "execution_count": 29,
     "metadata": {},
     "output_type": "execute_result"
    }
   ],
   "source": [
    "test4()"
   ]
  },
  {
   "cell_type": "code",
   "execution_count": 30,
   "id": "d213e8cb-ba87-48a8-95d8-8eb03e4264a3",
   "metadata": {},
   "outputs": [],
   "source": [
    "def test5(a,b,c):\n",
    "    d=a+b/c\n",
    "    return d\n"
   ]
  },
  {
   "cell_type": "code",
   "execution_count": 31,
   "id": "5ec5448d-9f19-487f-bb3f-4bfb1f3c69ed",
   "metadata": {},
   "outputs": [
    {
     "ename": "TypeError",
     "evalue": "test5() missing 3 required positional arguments: 'a', 'b', and 'c'",
     "output_type": "error",
     "traceback": [
      "\u001b[0;31m---------------------------------------------------------------------------\u001b[0m",
      "\u001b[0;31mTypeError\u001b[0m                                 Traceback (most recent call last)",
      "Cell \u001b[0;32mIn[31], line 1\u001b[0m\n\u001b[0;32m----> 1\u001b[0m \u001b[43mtest5\u001b[49m\u001b[43m(\u001b[49m\u001b[43m)\u001b[49m\n",
      "\u001b[0;31mTypeError\u001b[0m: test5() missing 3 required positional arguments: 'a', 'b', and 'c'"
     ]
    }
   ],
   "source": [
    "test5()"
   ]
  },
  {
   "cell_type": "code",
   "execution_count": 33,
   "id": "db76eb46-6531-4f1a-80db-7e43af530d2f",
   "metadata": {},
   "outputs": [
    {
     "data": {
      "text/plain": [
       "1002.625"
      ]
     },
     "execution_count": 33,
     "metadata": {},
     "output_type": "execute_result"
    }
   ],
   "source": [
    "test5(1002,5,8)\n"
   ]
  },
  {
   "cell_type": "code",
   "execution_count": 34,
   "id": "739da399-903a-4868-9870-2f4b539ce351",
   "metadata": {},
   "outputs": [],
   "source": [
    "def test6(a,b):\n",
    "    return a+b\n"
   ]
  },
  {
   "cell_type": "code",
   "execution_count": 35,
   "id": "bb511899-8837-45f7-8c02-a0e92760de3f",
   "metadata": {},
   "outputs": [
    {
     "data": {
      "text/plain": [
       "11"
      ]
     },
     "execution_count": 35,
     "metadata": {},
     "output_type": "execute_result"
    }
   ],
   "source": [
    "test6(5,6)"
   ]
  },
  {
   "cell_type": "code",
   "execution_count": 37,
   "id": "9c918b04-fbce-4867-8d49-f1c08e5a36a6",
   "metadata": {},
   "outputs": [
    {
     "data": {
      "text/plain": [
       "'Rahul Parihar'"
      ]
     },
     "execution_count": 37,
     "metadata": {},
     "output_type": "execute_result"
    }
   ],
   "source": [
    "test6(\"Rahul \" , \"Parihar\")"
   ]
  },
  {
   "cell_type": "code",
   "execution_count": 38,
   "id": "dbb5e048-2c12-49d1-9c86-6104a9f13510",
   "metadata": {},
   "outputs": [
    {
     "data": {
      "text/plain": [
       "[4, 5, 8, 8, 2, 4456, 3, 4]"
      ]
     },
     "execution_count": 38,
     "metadata": {},
     "output_type": "execute_result"
    }
   ],
   "source": [
    "test6([4,5,8,8],[2,4456,3,4,])"
   ]
  },
  {
   "cell_type": "code",
   "execution_count": 4,
   "id": "6485dea7-a294-4e5a-8be5-26c8710b8818",
   "metadata": {},
   "outputs": [],
   "source": [
    "l = [1,2,3,4 ,\"Rahul\" ,\"Singh\", [9,8,7,6,5,4]]"
   ]
  },
  {
   "cell_type": "code",
   "execution_count": 42,
   "id": "51e61cca-c843-45e3-8724-23911989e193",
   "metadata": {},
   "outputs": [],
   "source": [
    "l1=[]\n",
    "for i in l:\n",
    "    if type(i) == int or type(i) == float:\n",
    "        l1.append(i)"
   ]
  },
  {
   "cell_type": "code",
   "execution_count": 43,
   "id": "a5d0c555-3e01-4ec7-b2b2-aefaf5142a80",
   "metadata": {},
   "outputs": [
    {
     "data": {
      "text/plain": [
       "[1, 2, 3, 4]"
      ]
     },
     "execution_count": 43,
     "metadata": {},
     "output_type": "execute_result"
    }
   ],
   "source": [
    "l1"
   ]
  },
  {
   "cell_type": "code",
   "execution_count": 8,
   "id": "a1affec5-7d43-40ea-974f-563de4c23f1b",
   "metadata": {},
   "outputs": [],
   "source": [
    "def test7(l):\n",
    "    l1=[]\n",
    "    for i in l:\n",
    "        if type(i) == int or type(i) == float:\n",
    "            l1.append(i)\n",
    "    return l1       \n",
    "    "
   ]
  },
  {
   "cell_type": "code",
   "execution_count": 9,
   "id": "5a7ead90-240b-4398-a115-f8490e81f935",
   "metadata": {},
   "outputs": [
    {
     "data": {
      "text/plain": [
       "[1, 2, 3, 4]"
      ]
     },
     "execution_count": 9,
     "metadata": {},
     "output_type": "execute_result"
    }
   ],
   "source": [
    "test7(l)"
   ]
  },
  {
   "cell_type": "code",
   "execution_count": 10,
   "id": "36d6b2df-3a05-480f-933a-8643d574e912",
   "metadata": {},
   "outputs": [
    {
     "data": {
      "text/plain": [
       "[1, 2, 3, 4, 'Rahul', 'Singh', [9, 8, 7, 6, 5, 4]]"
      ]
     },
     "execution_count": 10,
     "metadata": {},
     "output_type": "execute_result"
    }
   ],
   "source": [
    "l"
   ]
  },
  {
   "cell_type": "code",
   "execution_count": 27,
   "id": "cd4b4376-a2b0-4412-95e9-cc73df136b5b",
   "metadata": {},
   "outputs": [],
   "source": [
    "def test8(a):\n",
    "    l=[]\n",
    "    for i in a :\n",
    "        if type(i) == list :\n",
    "            for j in i :\n",
    "                l.append(j)\n",
    "        else:\n",
    "            if type(i) == int or type(i)== float :\n",
    "                l.append(i)\n",
    "    return l\n",
    "        "
   ]
  },
  {
   "cell_type": "code",
   "execution_count": 28,
   "id": "d619dcda-780c-4422-8b25-16ba6385bcc8",
   "metadata": {},
   "outputs": [
    {
     "data": {
      "text/plain": [
       "[1, 2, 3, 4, 9, 8, 7, 6, 5, 4, 9, 8, 7, 6, 5, 4, 4]"
      ]
     },
     "execution_count": 28,
     "metadata": {},
     "output_type": "execute_result"
    }
   ],
   "source": [
    "test8(l)"
   ]
  },
  {
   "cell_type": "code",
   "execution_count": 36,
   "id": "4da70beb-ade1-4599-98b3-053a66529485",
   "metadata": {},
   "outputs": [],
   "source": [
    "def test9(a):\n",
    "    \"\"\"This is my function to extract numerical data from a list.\"\"\"\n",
    "     \n",
    "    l=[]\n",
    "    for i in a :\n",
    "        if type(i) == list :\n",
    "            for j in i :\n",
    "                l.append(j)\n",
    "        else:\n",
    "            if type(i) == int or type(i)== float :\n",
    "                l.append(i)\n",
    "    return l"
   ]
  },
  {
   "cell_type": "code",
   "execution_count": null,
   "id": "57da3166-3441-44b7-bf65-c4c75f90d916",
   "metadata": {},
   "outputs": [],
   "source": [
    "test9()"
   ]
  },
  {
   "cell_type": "code",
   "execution_count": 39,
   "id": "f34b3f3e-dd80-4f17-8418-c0c2b95abd25",
   "metadata": {},
   "outputs": [],
   "source": [
    "def test (a,b):\n",
    "    return a+b"
   ]
  },
  {
   "cell_type": "code",
   "execution_count": 40,
   "id": "a6016325-22c0-43d9-9689-e16ba3a1b1d9",
   "metadata": {},
   "outputs": [],
   "source": [
    "def test11(*args):\n",
    "    return args"
   ]
  },
  {
   "cell_type": "code",
   "execution_count": 41,
   "id": "d6ea3dc6-1c36-4ba5-9eb7-c2e93067f90d",
   "metadata": {},
   "outputs": [
    {
     "data": {
      "text/plain": [
       "()"
      ]
     },
     "execution_count": 41,
     "metadata": {},
     "output_type": "execute_result"
    }
   ],
   "source": [
    "test11()"
   ]
  },
  {
   "cell_type": "code",
   "execution_count": 42,
   "id": "8615285e-ea79-4a9e-85b9-3b9d91659ba1",
   "metadata": {},
   "outputs": [
    {
     "data": {
      "text/plain": [
       "tuple"
      ]
     },
     "execution_count": 42,
     "metadata": {},
     "output_type": "execute_result"
    }
   ],
   "source": [
    "type(test11())"
   ]
  },
  {
   "cell_type": "code",
   "execution_count": 43,
   "id": "8a7c7ad4-86d7-4453-9e12-fea420388c88",
   "metadata": {},
   "outputs": [
    {
     "data": {
      "text/plain": [
       "(1, 2, 3)"
      ]
     },
     "execution_count": 43,
     "metadata": {},
     "output_type": "execute_result"
    }
   ],
   "source": [
    "test11(1,2,3)"
   ]
  },
  {
   "cell_type": "code",
   "execution_count": 44,
   "id": "4b909a80-fb5a-43bd-91b2-dcded2936310",
   "metadata": {},
   "outputs": [
    {
     "data": {
      "text/plain": [
       "(1, 2, 3, 'Rahul', [5, 67, 9])"
      ]
     },
     "execution_count": 44,
     "metadata": {},
     "output_type": "execute_result"
    }
   ],
   "source": [
    "test11(1,2,3,\"Rahul\", [5,67,9])"
   ]
  },
  {
   "cell_type": "code",
   "execution_count": 45,
   "id": "a2271296-352b-48a7-a7f0-559a925e0add",
   "metadata": {},
   "outputs": [],
   "source": [
    "def test12(*rahul):\n",
    "    return rahul"
   ]
  },
  {
   "cell_type": "code",
   "execution_count": 50,
   "id": "c9b9f40f-5932-4002-a503-e38c99db86dc",
   "metadata": {},
   "outputs": [
    {
     "data": {
      "text/plain": [
       "(23, 4.45, 34)"
      ]
     },
     "execution_count": 50,
     "metadata": {},
     "output_type": "execute_result"
    }
   ],
   "source": [
    "test12(23,4.45,34)"
   ]
  },
  {
   "cell_type": "code",
   "execution_count": 51,
   "id": "c1086e9e-6ac6-48b4-b129-8b840e3d81d9",
   "metadata": {},
   "outputs": [],
   "source": [
    "def test13(*args, a):\n",
    "    return args , a"
   ]
  },
  {
   "cell_type": "code",
   "execution_count": 52,
   "id": "7de4fde3-3e02-4635-a34b-2fca2f3fdf47",
   "metadata": {},
   "outputs": [
    {
     "data": {
      "text/plain": [
       "((1, 2, 3, 4), 23)"
      ]
     },
     "execution_count": 52,
     "metadata": {},
     "output_type": "execute_result"
    }
   ],
   "source": [
    "test13(1,2,3,4,a=23)"
   ]
  },
  {
   "cell_type": "code",
   "execution_count": 55,
   "id": "2fbce278-e02d-4a5f-91b4-485d74206ab8",
   "metadata": {},
   "outputs": [],
   "source": [
    "def test14(c, d, a=1, b=2):\n",
    "    return a, b, c, d\n"
   ]
  },
  {
   "cell_type": "code",
   "execution_count": 56,
   "id": "f6feb9e5-e9e1-4aa7-8dbd-62ad93bc7f34",
   "metadata": {},
   "outputs": [
    {
     "data": {
      "text/plain": [
       "(1, 2, 3, 5)"
      ]
     },
     "execution_count": 56,
     "metadata": {},
     "output_type": "execute_result"
    }
   ],
   "source": [
    "test14(3,5)"
   ]
  },
  {
   "cell_type": "code",
   "execution_count": 58,
   "id": "b117f081-a251-452b-870e-ac9740b3983b",
   "metadata": {},
   "outputs": [
    {
     "data": {
      "text/plain": [
       "(5545, 2, 45, 58)"
      ]
     },
     "execution_count": 58,
     "metadata": {},
     "output_type": "execute_result"
    }
   ],
   "source": [
    "test14(45,58 ,a=5545)"
   ]
  },
  {
   "cell_type": "code",
   "execution_count": 62,
   "id": "d81c4079-e0a5-4cee-9394-a3c8880b3ed3",
   "metadata": {},
   "outputs": [],
   "source": [
    "def test15(**kwargs):\n",
    "    return kwargs"
   ]
  },
  {
   "cell_type": "code",
   "execution_count": 63,
   "id": "6d547129-83f6-4bf9-93c3-817ee4097237",
   "metadata": {},
   "outputs": [
    {
     "data": {
      "text/plain": [
       "{}"
      ]
     },
     "execution_count": 63,
     "metadata": {},
     "output_type": "execute_result"
    }
   ],
   "source": [
    "test15()"
   ]
  },
  {
   "cell_type": "code",
   "execution_count": 64,
   "id": "b0e1909f-ba24-404d-815a-2004291ad392",
   "metadata": {},
   "outputs": [
    {
     "data": {
      "text/plain": [
       "dict"
      ]
     },
     "execution_count": 64,
     "metadata": {},
     "output_type": "execute_result"
    }
   ],
   "source": [
    "type(test15())"
   ]
  },
  {
   "cell_type": "code",
   "execution_count": 66,
   "id": "9c584efa-aedb-4e0e-8130-75a50b8c4fa5",
   "metadata": {},
   "outputs": [
    {
     "data": {
      "text/plain": [
       "{'a': [1, 5, 78], 'b': 'Rahul', 'c': 25.5}"
      ]
     },
     "execution_count": 66,
     "metadata": {},
     "output_type": "execute_result"
    }
   ],
   "source": [
    "test15(a=[1,5,78], b= \"Rahul\", c=25.5)"
   ]
  },
  {
   "cell_type": "code",
   "execution_count": null,
   "id": "dd4105c1-83aa-4c7b-9645-d76276a3f613",
   "metadata": {},
   "outputs": [],
   "source": []
  }
 ],
 "metadata": {
  "kernelspec": {
   "display_name": "Python 3 (ipykernel)",
   "language": "python",
   "name": "python3"
  },
  "language_info": {
   "codemirror_mode": {
    "name": "ipython",
    "version": 3
   },
   "file_extension": ".py",
   "mimetype": "text/x-python",
   "name": "python",
   "nbconvert_exporter": "python",
   "pygments_lexer": "ipython3",
   "version": "3.10.8"
  }
 },
 "nbformat": 4,
 "nbformat_minor": 5
}
