{
 "cells": [
  {
   "cell_type": "code",
   "execution_count": 1,
   "id": "39080c52-c0e7-4ab6-844f-23989d99ee62",
   "metadata": {},
   "outputs": [],
   "source": [
    "#This is  list"
   ]
  },
  {
   "cell_type": "code",
   "execution_count": 5,
   "id": "3aae1390-01c7-41da-ac87-41133df674d9",
   "metadata": {},
   "outputs": [],
   "source": [
    "l=[ 1,34, \"Rahul\" , 3+4j, \"False\" ,5.57 ]"
   ]
  },
  {
   "cell_type": "code",
   "execution_count": 6,
   "id": "dc150503-c411-4cdf-8e78-e59f2af445ea",
   "metadata": {},
   "outputs": [
    {
     "data": {
      "text/plain": [
       "list"
      ]
     },
     "execution_count": 6,
     "metadata": {},
     "output_type": "execute_result"
    }
   ],
   "source": [
    "type(l)"
   ]
  },
  {
   "cell_type": "code",
   "execution_count": 7,
   "id": "b35e94eb-99ff-4813-bd51-410762a0bc15",
   "metadata": {},
   "outputs": [
    {
     "data": {
      "text/plain": [
       "[1, 34, 'Rahul', (3+4j), 'False', 5.57]"
      ]
     },
     "execution_count": 7,
     "metadata": {},
     "output_type": "execute_result"
    }
   ],
   "source": [
    "l"
   ]
  },
  {
   "cell_type": "code",
   "execution_count": 10,
   "id": "6bc7fc83-8f81-41aa-b9d7-18824ac5b546",
   "metadata": {},
   "outputs": [
    {
     "data": {
      "text/plain": [
       "[1, 34, 'Rahul', (3+4j)]"
      ]
     },
     "execution_count": 10,
     "metadata": {},
     "output_type": "execute_result"
    }
   ],
   "source": [
    "l[0:4]"
   ]
  },
  {
   "cell_type": "code",
   "execution_count": 11,
   "id": "78cca850-6412-495e-8e89-b3e84940c9a7",
   "metadata": {},
   "outputs": [
    {
     "data": {
      "text/plain": [
       "5.57"
      ]
     },
     "execution_count": 11,
     "metadata": {},
     "output_type": "execute_result"
    }
   ],
   "source": [
    "l[-1]"
   ]
  },
  {
   "cell_type": "code",
   "execution_count": 12,
   "id": "b1e21bd8-a834-49ae-a321-0aeeac46f8c9",
   "metadata": {},
   "outputs": [
    {
     "data": {
      "text/plain": [
       "[5.57, 'False', (3+4j), 'Rahul', 34, 1]"
      ]
     },
     "execution_count": 12,
     "metadata": {},
     "output_type": "execute_result"
    }
   ],
   "source": [
    "l[::-1]"
   ]
  },
  {
   "cell_type": "code",
   "execution_count": 13,
   "id": "45998da3-343a-4d68-8012-086575a5655f",
   "metadata": {},
   "outputs": [
    {
     "data": {
      "text/plain": [
       "[1, 'Rahul', 'False']"
      ]
     },
     "execution_count": 13,
     "metadata": {},
     "output_type": "execute_result"
    }
   ],
   "source": [
    "l[::2]"
   ]
  },
  {
   "cell_type": "code",
   "execution_count": 14,
   "id": "b22d00a4-e3b4-4041-b029-a2f41f411fa1",
   "metadata": {},
   "outputs": [
    {
     "data": {
      "text/plain": [
       "[1, (3+4j)]"
      ]
     },
     "execution_count": 14,
     "metadata": {},
     "output_type": "execute_result"
    }
   ],
   "source": [
    "l[::3]"
   ]
  },
  {
   "cell_type": "code",
   "execution_count": 15,
   "id": "6c8cb696-2612-4ecc-b3cd-ba21fda34a17",
   "metadata": {},
   "outputs": [
    {
     "data": {
      "text/plain": [
       "[1, 34, 'Rahul', (3+4j), 'False', 5.57]"
      ]
     },
     "execution_count": 15,
     "metadata": {},
     "output_type": "execute_result"
    }
   ],
   "source": [
    "l"
   ]
  },
  {
   "cell_type": "code",
   "execution_count": 16,
   "id": "c809a569-af7d-4393-b54c-8b4639cbf3ca",
   "metadata": {},
   "outputs": [],
   "source": [
    "s = \"Singh\""
   ]
  },
  {
   "cell_type": "code",
   "execution_count": 17,
   "id": "fc7c2290-b8c3-4823-bb14-1ba0d74f785c",
   "metadata": {},
   "outputs": [
    {
     "ename": "TypeError",
     "evalue": "can only concatenate list (not \"str\") to list",
     "output_type": "error",
     "traceback": [
      "\u001b[0;31m---------------------------------------------------------------------------\u001b[0m",
      "\u001b[0;31mTypeError\u001b[0m                                 Traceback (most recent call last)",
      "Cell \u001b[0;32mIn[17], line 1\u001b[0m\n\u001b[0;32m----> 1\u001b[0m \u001b[43ml\u001b[49m\u001b[38;5;241;43m+\u001b[39;49m\u001b[43ms\u001b[49m\n",
      "\u001b[0;31mTypeError\u001b[0m: can only concatenate list (not \"str\") to list"
     ]
    }
   ],
   "source": [
    "l+s"
   ]
  },
  {
   "cell_type": "code",
   "execution_count": 18,
   "id": "2cdf7d50-781b-4a54-ba06-03a8aa71af82",
   "metadata": {},
   "outputs": [
    {
     "data": {
      "text/plain": [
       "['S', 'i', 'n', 'g', 'h']"
      ]
     },
     "execution_count": 18,
     "metadata": {},
     "output_type": "execute_result"
    }
   ],
   "source": [
    "list(s)"
   ]
  },
  {
   "cell_type": "code",
   "execution_count": 19,
   "id": "09f70715-9bcd-4d04-a839-ebbbe68c07d2",
   "metadata": {},
   "outputs": [
    {
     "data": {
      "text/plain": [
       "['S', 'i', 'n', 'g', 'h', 1, 34, 'Rahul', (3+4j), 'False', 5.57]"
      ]
     },
     "execution_count": 19,
     "metadata": {},
     "output_type": "execute_result"
    }
   ],
   "source": [
    "list(s) +l"
   ]
  },
  {
   "cell_type": "code",
   "execution_count": 20,
   "id": "b051344a-bd30-4b7a-b03d-b9dbd4a7ebe7",
   "metadata": {},
   "outputs": [
    {
     "data": {
      "text/plain": [
       "[1, 34, 'Rahul', (3+4j), 'False', 5.57]"
      ]
     },
     "execution_count": 20,
     "metadata": {},
     "output_type": "execute_result"
    }
   ],
   "source": [
    "l"
   ]
  },
  {
   "cell_type": "code",
   "execution_count": 21,
   "id": "78c49d27-934e-413b-8303-550b244c7b98",
   "metadata": {},
   "outputs": [
    {
     "data": {
      "text/plain": [
       "'Rahul'"
      ]
     },
     "execution_count": 21,
     "metadata": {},
     "output_type": "execute_result"
    }
   ],
   "source": [
    "l[2]"
   ]
  },
  {
   "cell_type": "code",
   "execution_count": 23,
   "id": "e70bd8c6-dada-4cf7-8eba-eb029dba25e0",
   "metadata": {},
   "outputs": [
    {
     "data": {
      "text/plain": [
       "'Ra'"
      ]
     },
     "execution_count": 23,
     "metadata": {},
     "output_type": "execute_result"
    }
   ],
   "source": [
    "l[2][0:2]"
   ]
  },
  {
   "cell_type": "code",
   "execution_count": 24,
   "id": "65e190f9-3971-4cf9-aa39-51097f3b9ec7",
   "metadata": {},
   "outputs": [
    {
     "data": {
      "text/plain": [
       "'False'"
      ]
     },
     "execution_count": 24,
     "metadata": {},
     "output_type": "execute_result"
    }
   ],
   "source": [
    "l[4]"
   ]
  },
  {
   "cell_type": "code",
   "execution_count": 25,
   "id": "6d007626-7d00-4ac5-83a8-c912da651658",
   "metadata": {},
   "outputs": [
    {
     "data": {
      "text/plain": [
       "'Fal'"
      ]
     },
     "execution_count": 25,
     "metadata": {},
     "output_type": "execute_result"
    }
   ],
   "source": [
    "str(l[4])[0:3]"
   ]
  },
  {
   "cell_type": "code",
   "execution_count": 26,
   "id": "304ac9a6-90f3-45ed-ac45-e38b41cf7f67",
   "metadata": {},
   "outputs": [
    {
     "data": {
      "text/plain": [
       "[1, 34, 'Rahul', (3+4j), 'False', 5.57]"
      ]
     },
     "execution_count": 26,
     "metadata": {},
     "output_type": "execute_result"
    }
   ],
   "source": [
    "l"
   ]
  },
  {
   "cell_type": "code",
   "execution_count": 27,
   "id": "a86919ea-4d8c-478c-8f30-b365d32cd7ec",
   "metadata": {},
   "outputs": [
    {
     "ename": "TypeError",
     "evalue": "can only concatenate list (not \"int\") to list",
     "output_type": "error",
     "traceback": [
      "\u001b[0;31m---------------------------------------------------------------------------\u001b[0m",
      "\u001b[0;31mTypeError\u001b[0m                                 Traceback (most recent call last)",
      "Cell \u001b[0;32mIn[27], line 1\u001b[0m\n\u001b[0;32m----> 1\u001b[0m \u001b[43ml\u001b[49m\u001b[38;5;241;43m+\u001b[39;49m\u001b[38;5;241;43m5\u001b[39;49m\n",
      "\u001b[0;31mTypeError\u001b[0m: can only concatenate list (not \"int\") to list"
     ]
    }
   ],
   "source": [
    "l+5"
   ]
  },
  {
   "cell_type": "code",
   "execution_count": 28,
   "id": "fcd20e5a-19ce-42e4-9c44-213dff9e3a98",
   "metadata": {},
   "outputs": [],
   "source": [
    "l1 =[87,34,45]"
   ]
  },
  {
   "cell_type": "code",
   "execution_count": 29,
   "id": "1e768839-cd14-4ec8-a56c-08ad702d4aa2",
   "metadata": {},
   "outputs": [
    {
     "data": {
      "text/plain": [
       "[1, 34, 'Rahul', (3+4j), 'False', 5.57, 87, 34, 45]"
      ]
     },
     "execution_count": 29,
     "metadata": {},
     "output_type": "execute_result"
    }
   ],
   "source": [
    "l+l1"
   ]
  },
  {
   "cell_type": "code",
   "execution_count": 30,
   "id": "177c95e6-0f3e-4e97-96c5-da0cc16951bd",
   "metadata": {},
   "outputs": [
    {
     "data": {
      "text/plain": [
       "[87, 34, 45, 87, 34, 45]"
      ]
     },
     "execution_count": 30,
     "metadata": {},
     "output_type": "execute_result"
    }
   ],
   "source": [
    "l1*2"
   ]
  },
  {
   "cell_type": "code",
   "execution_count": 31,
   "id": "fdfe2c4d-79e9-4767-a62d-595fccc8c534",
   "metadata": {},
   "outputs": [
    {
     "data": {
      "text/plain": [
       "[1, 34, 'Rahul', (3+4j), 'False', 5.57]"
      ]
     },
     "execution_count": 31,
     "metadata": {},
     "output_type": "execute_result"
    }
   ],
   "source": [
    "l"
   ]
  },
  {
   "cell_type": "code",
   "execution_count": 32,
   "id": "dcad1ebd-613b-4d76-9e7d-51f06c66ad76",
   "metadata": {},
   "outputs": [
    {
     "data": {
      "text/plain": [
       "6"
      ]
     },
     "execution_count": 32,
     "metadata": {},
     "output_type": "execute_result"
    }
   ],
   "source": [
    "len(l)"
   ]
  },
  {
   "cell_type": "code",
   "execution_count": 33,
   "id": "20453282-e1d4-49a9-b4a5-e996f276dc36",
   "metadata": {},
   "outputs": [
    {
     "data": {
      "text/plain": [
       "[1, 34, 'Rahul', (3+4j), 'False', 5.57]"
      ]
     },
     "execution_count": 33,
     "metadata": {},
     "output_type": "execute_result"
    }
   ],
   "source": [
    "l"
   ]
  },
  {
   "cell_type": "code",
   "execution_count": 34,
   "id": "11a2822b-0127-4ff7-997b-4c0725e4b001",
   "metadata": {},
   "outputs": [],
   "source": [
    "l.append(5)"
   ]
  },
  {
   "cell_type": "code",
   "execution_count": 35,
   "id": "01b1ac99-238d-4fc0-bbe3-6351fdb21034",
   "metadata": {},
   "outputs": [
    {
     "data": {
      "text/plain": [
       "[1, 34, 'Rahul', (3+4j), 'False', 5.57, 5]"
      ]
     },
     "execution_count": 35,
     "metadata": {},
     "output_type": "execute_result"
    }
   ],
   "source": [
    "l"
   ]
  },
  {
   "cell_type": "code",
   "execution_count": 36,
   "id": "87091d6d-1a8e-4c45-a192-4a9ac14ed181",
   "metadata": {},
   "outputs": [],
   "source": [
    "l.append(s)"
   ]
  },
  {
   "cell_type": "code",
   "execution_count": 37,
   "id": "b81c0824-0ed7-4e69-adad-824e0164b261",
   "metadata": {},
   "outputs": [
    {
     "data": {
      "text/plain": [
       "[1, 34, 'Rahul', (3+4j), 'False', 5.57, 5, 'Singh']"
      ]
     },
     "execution_count": 37,
     "metadata": {},
     "output_type": "execute_result"
    }
   ],
   "source": [
    "l"
   ]
  },
  {
   "cell_type": "code",
   "execution_count": 38,
   "id": "91d8ed53-66ff-41d3-b442-1ce850fde309",
   "metadata": {},
   "outputs": [],
   "source": [
    "l.append(l1)"
   ]
  },
  {
   "cell_type": "code",
   "execution_count": 39,
   "id": "13722d2d-199c-4252-899c-9e5c9905c67b",
   "metadata": {},
   "outputs": [
    {
     "data": {
      "text/plain": [
       "[1, 34, 'Rahul', (3+4j), 'False', 5.57, 5, 'Singh', [87, 34, 45]]"
      ]
     },
     "execution_count": 39,
     "metadata": {},
     "output_type": "execute_result"
    }
   ],
   "source": [
    "l"
   ]
  },
  {
   "cell_type": "code",
   "execution_count": 40,
   "id": "af910e92-b0a4-47d9-b7f0-a65922963b12",
   "metadata": {},
   "outputs": [
    {
     "data": {
      "text/plain": [
       "[87, 34, 45]"
      ]
     },
     "execution_count": 40,
     "metadata": {},
     "output_type": "execute_result"
    }
   ],
   "source": [
    "l[-1]"
   ]
  },
  {
   "cell_type": "code",
   "execution_count": 41,
   "id": "5a862193-4be7-4723-9fe0-f07ddd95a908",
   "metadata": {},
   "outputs": [
    {
     "data": {
      "text/plain": [
       "45"
      ]
     },
     "execution_count": 41,
     "metadata": {},
     "output_type": "execute_result"
    }
   ],
   "source": [
    "l[-1][-1]"
   ]
  },
  {
   "cell_type": "code",
   "execution_count": 42,
   "id": "e45b16db-8688-4c06-a5d5-51373307530d",
   "metadata": {},
   "outputs": [
    {
     "data": {
      "text/plain": [
       "[1, 34, 'Rahul', (3+4j), 'False', 5.57, 5, 'Singh', [87, 34, 45]]"
      ]
     },
     "execution_count": 42,
     "metadata": {},
     "output_type": "execute_result"
    }
   ],
   "source": [
    "l"
   ]
  },
  {
   "cell_type": "code",
   "execution_count": 43,
   "id": "636d1eff-44ce-4b61-943c-d68956ab04ef",
   "metadata": {},
   "outputs": [
    {
     "ename": "TypeError",
     "evalue": "'int' object is not iterable",
     "output_type": "error",
     "traceback": [
      "\u001b[0;31m---------------------------------------------------------------------------\u001b[0m",
      "\u001b[0;31mTypeError\u001b[0m                                 Traceback (most recent call last)",
      "Cell \u001b[0;32mIn[43], line 1\u001b[0m\n\u001b[0;32m----> 1\u001b[0m \u001b[43ml\u001b[49m\u001b[38;5;241;43m.\u001b[39;49m\u001b[43mextend\u001b[49m\u001b[43m(\u001b[49m\u001b[38;5;241;43m4\u001b[39;49m\u001b[43m)\u001b[49m\n",
      "\u001b[0;31mTypeError\u001b[0m: 'int' object is not iterable"
     ]
    }
   ],
   "source": [
    "l.extend(4)"
   ]
  },
  {
   "cell_type": "code",
   "execution_count": 44,
   "id": "269d577b-99c1-49e2-a8cc-5732588cf888",
   "metadata": {},
   "outputs": [],
   "source": [
    "l.extend(\"Parihar\")"
   ]
  },
  {
   "cell_type": "code",
   "execution_count": 45,
   "id": "dcd37f59-eacc-42b9-b9a3-435c67b6dacf",
   "metadata": {},
   "outputs": [
    {
     "data": {
      "text/plain": [
       "[1,\n",
       " 34,\n",
       " 'Rahul',\n",
       " (3+4j),\n",
       " 'False',\n",
       " 5.57,\n",
       " 5,\n",
       " 'Singh',\n",
       " [87, 34, 45],\n",
       " 'P',\n",
       " 'a',\n",
       " 'r',\n",
       " 'i',\n",
       " 'h',\n",
       " 'a',\n",
       " 'r']"
      ]
     },
     "execution_count": 45,
     "metadata": {},
     "output_type": "execute_result"
    }
   ],
   "source": [
    "l"
   ]
  },
  {
   "cell_type": "code",
   "execution_count": 47,
   "id": "397c4bd0-2808-442c-bea5-9bb6de686c1b",
   "metadata": {},
   "outputs": [],
   "source": [
    "l.extend([9,8])"
   ]
  },
  {
   "cell_type": "code",
   "execution_count": 48,
   "id": "dcd37d65-aa60-45e9-ba1a-339c393332e2",
   "metadata": {},
   "outputs": [
    {
     "data": {
      "text/plain": [
       "[1,\n",
       " 34,\n",
       " 'Rahul',\n",
       " (3+4j),\n",
       " 'False',\n",
       " 5.57,\n",
       " 5,\n",
       " 'Singh',\n",
       " [87, 34, 45],\n",
       " 'P',\n",
       " 'a',\n",
       " 'r',\n",
       " 'i',\n",
       " 'h',\n",
       " 'a',\n",
       " 'r',\n",
       " 9,\n",
       " 8]"
      ]
     },
     "execution_count": 48,
     "metadata": {},
     "output_type": "execute_result"
    }
   ],
   "source": [
    "l"
   ]
  },
  {
   "cell_type": "code",
   "execution_count": 55,
   "id": "7c216c8f-d3aa-4d68-9156-aa7593a5fad3",
   "metadata": {},
   "outputs": [
    {
     "data": {
      "text/plain": [
       "[87, 34, 45]"
      ]
     },
     "execution_count": 55,
     "metadata": {},
     "output_type": "execute_result"
    }
   ],
   "source": [
    "l1"
   ]
  },
  {
   "cell_type": "code",
   "execution_count": 56,
   "id": "1b80063f-c9a8-4ee8-be65-d6cdc495c5e2",
   "metadata": {},
   "outputs": [],
   "source": [
    "l1.insert(0,\"Rahul\")"
   ]
  },
  {
   "cell_type": "code",
   "execution_count": 57,
   "id": "4e56b130-62e6-405d-bc4b-78a29e2b8ce1",
   "metadata": {},
   "outputs": [
    {
     "data": {
      "text/plain": [
       "['Rahul', 87, 34, 45]"
      ]
     },
     "execution_count": 57,
     "metadata": {},
     "output_type": "execute_result"
    }
   ],
   "source": [
    "l1"
   ]
  },
  {
   "cell_type": "code",
   "execution_count": 61,
   "id": "4d83bb7f-91a1-49f4-9343-7bf81fda129e",
   "metadata": {},
   "outputs": [],
   "source": [
    "l1.insert(5, [5,3,4])"
   ]
  },
  {
   "cell_type": "code",
   "execution_count": 62,
   "id": "9956f3fe-f677-46d8-96fd-944271680e63",
   "metadata": {},
   "outputs": [
    {
     "data": {
      "text/plain": [
       "['Rahul', 87, [5, 3, 4], 34, 45, [5, 3, 4]]"
      ]
     },
     "execution_count": 62,
     "metadata": {},
     "output_type": "execute_result"
    }
   ],
   "source": [
    "l1"
   ]
  },
  {
   "cell_type": "code",
   "execution_count": 65,
   "id": "03a95b21-f7d3-412c-b6df-12fb29f5685f",
   "metadata": {},
   "outputs": [],
   "source": [
    "l1.insert(-1, 78)"
   ]
  },
  {
   "cell_type": "code",
   "execution_count": 66,
   "id": "53ff6a80-a6c6-4bb5-bed7-829d09a173e1",
   "metadata": {},
   "outputs": [
    {
     "data": {
      "text/plain": [
       "['Rahul', 87, [5, 3, 4], 34, 45, 78, [5, 3, 4]]"
      ]
     },
     "execution_count": 66,
     "metadata": {},
     "output_type": "execute_result"
    }
   ],
   "source": [
    "l1"
   ]
  },
  {
   "cell_type": "code",
   "execution_count": 67,
   "id": "b63789f0-5d22-4750-b6ab-e004b59d1690",
   "metadata": {},
   "outputs": [
    {
     "data": {
      "text/plain": [
       "[5, 3, 4]"
      ]
     },
     "execution_count": 67,
     "metadata": {},
     "output_type": "execute_result"
    }
   ],
   "source": [
    "l1.pop()"
   ]
  },
  {
   "cell_type": "code",
   "execution_count": 68,
   "id": "4a76e2af-c347-48ac-99de-1573a4e2916d",
   "metadata": {},
   "outputs": [
    {
     "data": {
      "text/plain": [
       "['Rahul', 87, [5, 3, 4], 34, 45, 78]"
      ]
     },
     "execution_count": 68,
     "metadata": {},
     "output_type": "execute_result"
    }
   ],
   "source": [
    "l1"
   ]
  },
  {
   "cell_type": "code",
   "execution_count": 69,
   "id": "2577f9c5-d9c3-4b36-a231-83b168db449a",
   "metadata": {},
   "outputs": [
    {
     "data": {
      "text/plain": [
       "78"
      ]
     },
     "execution_count": 69,
     "metadata": {},
     "output_type": "execute_result"
    }
   ],
   "source": [
    "l1.pop()"
   ]
  },
  {
   "cell_type": "code",
   "execution_count": 70,
   "id": "cc2e3f0b-7deb-4f80-92b5-c030fdab32f0",
   "metadata": {},
   "outputs": [
    {
     "data": {
      "text/plain": [
       "['Rahul', 87, [5, 3, 4], 34, 45]"
      ]
     },
     "execution_count": 70,
     "metadata": {},
     "output_type": "execute_result"
    }
   ],
   "source": [
    "l1"
   ]
  },
  {
   "cell_type": "code",
   "execution_count": 72,
   "id": "07bc5830-2b41-46d0-b96c-c6450552a33c",
   "metadata": {},
   "outputs": [
    {
     "data": {
      "text/plain": [
       "'Rahul'"
      ]
     },
     "execution_count": 72,
     "metadata": {},
     "output_type": "execute_result"
    }
   ],
   "source": [
    "l1.pop(0)"
   ]
  },
  {
   "cell_type": "code",
   "execution_count": 73,
   "id": "05a96518-403f-4d0b-85bf-853df16010df",
   "metadata": {},
   "outputs": [
    {
     "data": {
      "text/plain": [
       "[87, [5, 3, 4], 34, 45]"
      ]
     },
     "execution_count": 73,
     "metadata": {},
     "output_type": "execute_result"
    }
   ],
   "source": [
    "l1"
   ]
  },
  {
   "cell_type": "code",
   "execution_count": 74,
   "id": "e7b2550a-2ecd-4d79-a0fa-4e53aa445ec9",
   "metadata": {},
   "outputs": [
    {
     "data": {
      "text/plain": [
       "[87, [5, 3, 4], 34, 45]"
      ]
     },
     "execution_count": 74,
     "metadata": {},
     "output_type": "execute_result"
    }
   ],
   "source": [
    "l1"
   ]
  },
  {
   "cell_type": "code",
   "execution_count": 75,
   "id": "5113c773-e7a0-46b6-8923-26b93e407ee3",
   "metadata": {},
   "outputs": [],
   "source": [
    "l1.remove(45)"
   ]
  },
  {
   "cell_type": "code",
   "execution_count": 76,
   "id": "6699ad6d-2c4d-4bb3-a610-a99991ced165",
   "metadata": {},
   "outputs": [
    {
     "data": {
      "text/plain": [
       "[87, [5, 3, 4], 34]"
      ]
     },
     "execution_count": 76,
     "metadata": {},
     "output_type": "execute_result"
    }
   ],
   "source": [
    "l1"
   ]
  },
  {
   "cell_type": "code",
   "execution_count": 77,
   "id": "3d15db37-25f4-4dc5-8e0f-46df4a27e7ee",
   "metadata": {},
   "outputs": [
    {
     "ename": "ValueError",
     "evalue": "list.remove(x): x not in list",
     "output_type": "error",
     "traceback": [
      "\u001b[0;31m---------------------------------------------------------------------------\u001b[0m",
      "\u001b[0;31mValueError\u001b[0m                                Traceback (most recent call last)",
      "Cell \u001b[0;32mIn[77], line 1\u001b[0m\n\u001b[0;32m----> 1\u001b[0m \u001b[43ml1\u001b[49m\u001b[38;5;241;43m.\u001b[39;49m\u001b[43mremove\u001b[49m\u001b[43m(\u001b[49m\u001b[38;5;241;43m254\u001b[39;49m\u001b[43m)\u001b[49m\n",
      "\u001b[0;31mValueError\u001b[0m: list.remove(x): x not in list"
     ]
    }
   ],
   "source": [
    "l1.remove(254)"
   ]
  },
  {
   "cell_type": "code",
   "execution_count": 79,
   "id": "45e8d28a-753f-4aa9-9a74-d667e6187342",
   "metadata": {},
   "outputs": [],
   "source": [
    "l1[1].remove(4)"
   ]
  },
  {
   "cell_type": "code",
   "execution_count": 80,
   "id": "c12b60bd-9fcf-4466-94c0-783472beade1",
   "metadata": {},
   "outputs": [
    {
     "data": {
      "text/plain": [
       "[87, [5, 3], 34]"
      ]
     },
     "execution_count": 80,
     "metadata": {},
     "output_type": "execute_result"
    }
   ],
   "source": [
    "l1"
   ]
  },
  {
   "cell_type": "code",
   "execution_count": 81,
   "id": "107063b5-24e3-4e3f-b294-e4e6168a6930",
   "metadata": {},
   "outputs": [
    {
     "data": {
      "text/plain": [
       "[34, [5, 3], 87]"
      ]
     },
     "execution_count": 81,
     "metadata": {},
     "output_type": "execute_result"
    }
   ],
   "source": [
    " l1[::-1]"
   ]
  },
  {
   "cell_type": "code",
   "execution_count": 83,
   "id": "e202bc36-3685-4b37-915d-e90753314a8f",
   "metadata": {},
   "outputs": [],
   "source": [
    "l1.reverse()"
   ]
  },
  {
   "cell_type": "code",
   "execution_count": 84,
   "id": "709e8453-f722-4ffc-bdab-a4d97c4ae2c6",
   "metadata": {},
   "outputs": [
    {
     "data": {
      "text/plain": [
       "[34, [5, 3], 87]"
      ]
     },
     "execution_count": 84,
     "metadata": {},
     "output_type": "execute_result"
    }
   ],
   "source": [
    "l1"
   ]
  },
  {
   "cell_type": "code",
   "execution_count": 88,
   "id": "ab5c1376-59b4-4401-98ae-2f247d72c6db",
   "metadata": {},
   "outputs": [],
   "source": [
    "l2 =[37,45,5,56,78,89,]"
   ]
  },
  {
   "cell_type": "code",
   "execution_count": 89,
   "id": "df4ebf7a-c16b-4e31-9bdb-da85e9d0ddc6",
   "metadata": {},
   "outputs": [],
   "source": [
    "l2.sort()"
   ]
  },
  {
   "cell_type": "code",
   "execution_count": 90,
   "id": "5599cfdd-d1f4-4804-bb7a-0a153a9fbe32",
   "metadata": {},
   "outputs": [
    {
     "data": {
      "text/plain": [
       "[5, 37, 45, 56, 78, 89]"
      ]
     },
     "execution_count": 90,
     "metadata": {},
     "output_type": "execute_result"
    }
   ],
   "source": [
    "l2"
   ]
  },
  {
   "cell_type": "code",
   "execution_count": 91,
   "id": "6b1788e3-7ada-473e-94d5-7c3ae387c9f0",
   "metadata": {},
   "outputs": [
    {
     "ename": "TypeError",
     "evalue": "'<' not supported between instances of 'list' and 'int'",
     "output_type": "error",
     "traceback": [
      "\u001b[0;31m---------------------------------------------------------------------------\u001b[0m",
      "\u001b[0;31mTypeError\u001b[0m                                 Traceback (most recent call last)",
      "Cell \u001b[0;32mIn[91], line 1\u001b[0m\n\u001b[0;32m----> 1\u001b[0m \u001b[43ml1\u001b[49m\u001b[38;5;241;43m.\u001b[39;49m\u001b[43msort\u001b[49m\u001b[43m(\u001b[49m\u001b[43m)\u001b[49m\n",
      "\u001b[0;31mTypeError\u001b[0m: '<' not supported between instances of 'list' and 'int'"
     ]
    }
   ],
   "source": [
    "l1.sort()"
   ]
  },
  {
   "cell_type": "code",
   "execution_count": 2,
   "id": "fb9096c9-752e-4a21-a4b6-a622a05a1a1a",
   "metadata": {},
   "outputs": [],
   "source": [
    "l3 =[\"Rahul\",\"Singh\",\"Parihar\"]"
   ]
  },
  {
   "cell_type": "code",
   "execution_count": 93,
   "id": "51a125f4-130c-4822-8934-1e69a0d32e40",
   "metadata": {},
   "outputs": [],
   "source": [
    "l3.sort()"
   ]
  },
  {
   "cell_type": "code",
   "execution_count": 94,
   "id": "85d30b77-0479-48fb-b4b6-0158b3344c43",
   "metadata": {},
   "outputs": [
    {
     "data": {
      "text/plain": [
       "['Parihar', 'Rahul', 'Singh']"
      ]
     },
     "execution_count": 94,
     "metadata": {},
     "output_type": "execute_result"
    }
   ],
   "source": [
    "l3"
   ]
  },
  {
   "cell_type": "code",
   "execution_count": 96,
   "id": "8dc5c326-7a5c-4208-bf7b-480700182681",
   "metadata": {},
   "outputs": [],
   "source": [
    "l3.sort(reverse=True)"
   ]
  },
  {
   "cell_type": "code",
   "execution_count": 97,
   "id": "b3bc8a9c-0678-4c9a-8c6c-aefcbb8dfe92",
   "metadata": {},
   "outputs": [
    {
     "data": {
      "text/plain": [
       "['Singh', 'Rahul', 'Parihar']"
      ]
     },
     "execution_count": 97,
     "metadata": {},
     "output_type": "execute_result"
    }
   ],
   "source": [
    "l3"
   ]
  },
  {
   "cell_type": "code",
   "execution_count": 4,
   "id": "cf82dc52-12cd-4d9f-b16e-df1fbff42356",
   "metadata": {},
   "outputs": [
    {
     "data": {
      "text/plain": [
       "0"
      ]
     },
     "execution_count": 4,
     "metadata": {},
     "output_type": "execute_result"
    }
   ],
   "source": [
    "l3.index(\"Rahul\")"
   ]
  },
  {
   "cell_type": "code",
   "execution_count": 6,
   "id": "e0662c7d-4879-4399-9561-15fbf07cb19c",
   "metadata": {},
   "outputs": [
    {
     "data": {
      "text/plain": [
       "1"
      ]
     },
     "execution_count": 6,
     "metadata": {},
     "output_type": "execute_result"
    }
   ],
   "source": [
    "l3.count(\"Rahul\")"
   ]
  },
  {
   "cell_type": "code",
   "execution_count": 10,
   "id": "41bb1fdc-14ee-41cc-8ca4-fbfa0ea0c2c2",
   "metadata": {},
   "outputs": [],
   "source": [
    "s=\"Rahul\""
   ]
  },
  {
   "cell_type": "code",
   "execution_count": 8,
   "id": "15d7833d-993f-49eb-a128-ca5554e14ab8",
   "metadata": {},
   "outputs": [],
   "source": [
    "l4=[4,5,6]"
   ]
  },
  {
   "cell_type": "code",
   "execution_count": 12,
   "id": "5ed2dff8-641f-407a-8f5c-94a5c6a9f276",
   "metadata": {},
   "outputs": [
    {
     "ename": "TypeError",
     "evalue": "'str' object does not support item assignment",
     "output_type": "error",
     "traceback": [
      "\u001b[0;31m---------------------------------------------------------------------------\u001b[0m",
      "\u001b[0;31mTypeError\u001b[0m                                 Traceback (most recent call last)",
      "Cell \u001b[0;32mIn[12], line 1\u001b[0m\n\u001b[0;32m----> 1\u001b[0m \u001b[43ms\u001b[49m\u001b[43m[\u001b[49m\u001b[38;5;241;43m0\u001b[39;49m\u001b[43m]\u001b[49m\u001b[38;5;241m=\u001b[39m\u001b[38;5;124m'\u001b[39m\u001b[38;5;124ma\u001b[39m\u001b[38;5;124m'\u001b[39m\n",
      "\u001b[0;31mTypeError\u001b[0m: 'str' object does not support item assignment"
     ]
    }
   ],
   "source": [
    "s[0]='a'"
   ]
  },
  {
   "cell_type": "code",
   "execution_count": 14,
   "id": "57007fbc-ff41-4a26-b6cb-dc207aeabbcd",
   "metadata": {},
   "outputs": [],
   "source": [
    "l4[0]=30"
   ]
  },
  {
   "cell_type": "code",
   "execution_count": 15,
   "id": "fcccc0c8-9eb1-42ca-9da9-39aae46e28b3",
   "metadata": {},
   "outputs": [
    {
     "data": {
      "text/plain": [
       "[30, 5, 6]"
      ]
     },
     "execution_count": 15,
     "metadata": {},
     "output_type": "execute_result"
    }
   ],
   "source": [
    "l4"
   ]
  },
  {
   "cell_type": "code",
   "execution_count": 16,
   "id": "f3b9c349-dee2-4569-b3d9-a4352b7a326a",
   "metadata": {},
   "outputs": [
    {
     "data": {
      "text/plain": [
       "'aahul'"
      ]
     },
     "execution_count": 16,
     "metadata": {},
     "output_type": "execute_result"
    }
   ],
   "source": [
    "s.replace('R' , 'a')"
   ]
  },
  {
   "cell_type": "code",
   "execution_count": 17,
   "id": "5a5be3a0-2ba2-4683-a561-779abb44b30a",
   "metadata": {},
   "outputs": [
    {
     "data": {
      "text/plain": [
       "'Rahul'"
      ]
     },
     "execution_count": 17,
     "metadata": {},
     "output_type": "execute_result"
    }
   ],
   "source": [
    "s"
   ]
  },
  {
   "cell_type": "code",
   "execution_count": 20,
   "id": "d92c6fdf-74a1-4210-9cd9-f3986a66ce62",
   "metadata": {},
   "outputs": [],
   "source": [
    "t=(4,4,56,5,\"Rahul\",False,543.4,78+36j, [4,6,5])"
   ]
  },
  {
   "cell_type": "code",
   "execution_count": 21,
   "id": "ad0f90c9-07d4-4f72-92c9-008d722b0fe9",
   "metadata": {},
   "outputs": [
    {
     "data": {
      "text/plain": [
       "(4, 4, 56, 5, 'Rahul', False, 543.4, (78+36j), [4, 6, 5])"
      ]
     },
     "execution_count": 21,
     "metadata": {},
     "output_type": "execute_result"
    }
   ],
   "source": [
    "t"
   ]
  },
  {
   "cell_type": "code",
   "execution_count": 22,
   "id": "cef28af7-0ca7-42c6-bbdb-a4cf43801fa8",
   "metadata": {},
   "outputs": [
    {
     "data": {
      "text/plain": [
       "tuple"
      ]
     },
     "execution_count": 22,
     "metadata": {},
     "output_type": "execute_result"
    }
   ],
   "source": [
    "type(t)"
   ]
  },
  {
   "cell_type": "code",
   "execution_count": 23,
   "id": "0a7f8d35-e6d2-47ae-9c63-0887b6f3ade7",
   "metadata": {},
   "outputs": [
    {
     "data": {
      "text/plain": [
       "9"
      ]
     },
     "execution_count": 23,
     "metadata": {},
     "output_type": "execute_result"
    }
   ],
   "source": [
    "len(t)"
   ]
  },
  {
   "cell_type": "code",
   "execution_count": 24,
   "id": "20f0ed8e-f61f-4194-b9c8-f8b19ce999d7",
   "metadata": {},
   "outputs": [
    {
     "data": {
      "text/plain": [
       "4"
      ]
     },
     "execution_count": 24,
     "metadata": {},
     "output_type": "execute_result"
    }
   ],
   "source": [
    "t[0]"
   ]
  },
  {
   "cell_type": "code",
   "execution_count": 25,
   "id": "e726e0a1-7d0c-4cf1-a8cf-4515983084fb",
   "metadata": {},
   "outputs": [
    {
     "data": {
      "text/plain": [
       "False"
      ]
     },
     "execution_count": 25,
     "metadata": {},
     "output_type": "execute_result"
    }
   ],
   "source": [
    "t[5]"
   ]
  },
  {
   "cell_type": "code",
   "execution_count": 26,
   "id": "3bb97967-ffee-4949-b0b9-96e370a44f01",
   "metadata": {},
   "outputs": [
    {
     "data": {
      "text/plain": [
       "[4, 6, 5]"
      ]
     },
     "execution_count": 26,
     "metadata": {},
     "output_type": "execute_result"
    }
   ],
   "source": [
    "t[-1]"
   ]
  },
  {
   "cell_type": "code",
   "execution_count": 27,
   "id": "f5179edb-5cc2-4a5f-a21b-8a7909428c1b",
   "metadata": {},
   "outputs": [
    {
     "data": {
      "text/plain": [
       "([4, 6, 5], (78+36j), 543.4, False, 'Rahul', 5, 56, 4, 4)"
      ]
     },
     "execution_count": 27,
     "metadata": {},
     "output_type": "execute_result"
    }
   ],
   "source": [
    "t[::-1]"
   ]
  },
  {
   "cell_type": "code",
   "execution_count": 28,
   "id": "d092b792-8756-4c9b-8fb3-c4437f9ccd2e",
   "metadata": {},
   "outputs": [
    {
     "data": {
      "text/plain": [
       "['Rahul', 'Singh', 'Parihar']"
      ]
     },
     "execution_count": 28,
     "metadata": {},
     "output_type": "execute_result"
    }
   ],
   "source": [
    "l3"
   ]
  },
  {
   "cell_type": "code",
   "execution_count": 31,
   "id": "e0f94779-a810-42dc-b436-b8f5bf325054",
   "metadata": {},
   "outputs": [],
   "source": [
    "l3[0]=4542"
   ]
  },
  {
   "cell_type": "code",
   "execution_count": 32,
   "id": "6012a435-2843-4400-ba43-1ba8456be76c",
   "metadata": {},
   "outputs": [
    {
     "data": {
      "text/plain": [
       "[4542, 'Singh', 'Parihar']"
      ]
     },
     "execution_count": 32,
     "metadata": {},
     "output_type": "execute_result"
    }
   ],
   "source": [
    "l3"
   ]
  },
  {
   "cell_type": "code",
   "execution_count": 33,
   "id": "08c260a4-72cb-4784-a9bf-03bc1a82722a",
   "metadata": {},
   "outputs": [
    {
     "data": {
      "text/plain": [
       "(4, 4, 56, 5, 'Rahul', False, 543.4, (78+36j), [4, 6, 5])"
      ]
     },
     "execution_count": 33,
     "metadata": {},
     "output_type": "execute_result"
    }
   ],
   "source": [
    "t"
   ]
  },
  {
   "cell_type": "code",
   "execution_count": 34,
   "id": "8f08fe82-a340-40f9-abf4-b10b74e01b77",
   "metadata": {},
   "outputs": [
    {
     "ename": "TypeError",
     "evalue": "'tuple' object does not support item assignment",
     "output_type": "error",
     "traceback": [
      "\u001b[0;31m---------------------------------------------------------------------------\u001b[0m",
      "\u001b[0;31mTypeError\u001b[0m                                 Traceback (most recent call last)",
      "Cell \u001b[0;32mIn[34], line 1\u001b[0m\n\u001b[0;32m----> 1\u001b[0m \u001b[43mt\u001b[49m\u001b[43m[\u001b[49m\u001b[38;5;241;43m0\u001b[39;49m\u001b[43m]\u001b[49m\u001b[38;5;241m=\u001b[39m\u001b[38;5;124m\"\u001b[39m\u001b[38;5;124mjSW\u001b[39m\u001b[38;5;124m\"\u001b[39m\n",
      "\u001b[0;31mTypeError\u001b[0m: 'tuple' object does not support item assignment"
     ]
    }
   ],
   "source": [
    "t[0]=\"jSW\""
   ]
  },
  {
   "cell_type": "code",
   "execution_count": 35,
   "id": "69a24806-b092-455e-bb22-da617a8c0701",
   "metadata": {},
   "outputs": [
    {
     "data": {
      "text/plain": [
       "([4, 6, 5], (78+36j), 543.4, False, 'Rahul', 5, 56, 4, 4)"
      ]
     },
     "execution_count": 35,
     "metadata": {},
     "output_type": "execute_result"
    }
   ],
   "source": [
    "t[::-1]"
   ]
  },
  {
   "cell_type": "code",
   "execution_count": 36,
   "id": "c556e502-1b8f-4f81-adb6-1f9c3a70db01",
   "metadata": {},
   "outputs": [
    {
     "data": {
      "text/plain": [
       "1"
      ]
     },
     "execution_count": 36,
     "metadata": {},
     "output_type": "execute_result"
    }
   ],
   "source": [
    "t.count(5)"
   ]
  },
  {
   "cell_type": "code",
   "execution_count": 37,
   "id": "5c9b760a-e1f8-46a9-bc6f-ff68ca99beb5",
   "metadata": {},
   "outputs": [
    {
     "data": {
      "text/plain": [
       "5"
      ]
     },
     "execution_count": 37,
     "metadata": {},
     "output_type": "execute_result"
    }
   ],
   "source": [
    "t.index(False)"
   ]
  },
  {
   "cell_type": "code",
   "execution_count": 38,
   "id": "8930120f-f2f1-4432-acaa-be5a20ab9594",
   "metadata": {},
   "outputs": [
    {
     "data": {
      "text/plain": [
       "(4, 4, 56, 5, 'Rahul', False, 543.4, (78+36j), [4, 6, 5])"
      ]
     },
     "execution_count": 38,
     "metadata": {},
     "output_type": "execute_result"
    }
   ],
   "source": [
    "t"
   ]
  },
  {
   "cell_type": "code",
   "execution_count": 39,
   "id": "e7c130f3-49e6-4286-8c62-a1fc2bd3d9e7",
   "metadata": {},
   "outputs": [],
   "source": [
    "s1={}"
   ]
  },
  {
   "cell_type": "code",
   "execution_count": 40,
   "id": "5ccb225d-dbaa-4396-934a-c3207c0f01cf",
   "metadata": {},
   "outputs": [
    {
     "data": {
      "text/plain": [
       "dict"
      ]
     },
     "execution_count": 40,
     "metadata": {},
     "output_type": "execute_result"
    }
   ],
   "source": [
    "type(s1)"
   ]
  },
  {
   "cell_type": "code",
   "execution_count": 41,
   "id": "946f69b8-9ae0-4df4-916a-493f20b49cde",
   "metadata": {},
   "outputs": [],
   "source": [
    "s2={5,4,66,77,2}"
   ]
  },
  {
   "cell_type": "code",
   "execution_count": 42,
   "id": "cadd040d-1be2-44cc-9ee9-384733bd9de4",
   "metadata": {},
   "outputs": [
    {
     "data": {
      "text/plain": [
       "set"
      ]
     },
     "execution_count": 42,
     "metadata": {},
     "output_type": "execute_result"
    }
   ],
   "source": [
    "type(s2)"
   ]
  },
  {
   "cell_type": "code",
   "execution_count": 45,
   "id": "c1385bf0-ff84-4b39-b500-600099504255",
   "metadata": {},
   "outputs": [],
   "source": [
    "s3={43,35,467,\"Rahul\",78+50j,45.554,(3,45,66)}"
   ]
  },
  {
   "cell_type": "code",
   "execution_count": 46,
   "id": "84ef39aa-986e-4310-a08b-8a5150cade50",
   "metadata": {},
   "outputs": [
    {
     "data": {
      "text/plain": [
       "{(3, 45, 66), (78+50j), 35, 43, 45.554, 467, 'Rahul'}"
      ]
     },
     "execution_count": 46,
     "metadata": {},
     "output_type": "execute_result"
    }
   ],
   "source": [
    "s3"
   ]
  },
  {
   "cell_type": "code",
   "execution_count": 52,
   "id": "8299b603-9b1a-443f-9478-41fe001ec4e1",
   "metadata": {},
   "outputs": [],
   "source": [
    "s4={2,3,67,3,5,26,88,3,8,2,33,1,1,2,76,43,88,\"Rahul\",\"rahul\"}"
   ]
  },
  {
   "cell_type": "code",
   "execution_count": 64,
   "id": "c83e7824-5351-4c47-8aa4-bd5d9672fb53",
   "metadata": {},
   "outputs": [
    {
     "data": {
      "text/plain": [
       "{1, 2, 26, 3, 33, 43, 5, 67, 76, 8, 88, 'Rahul', 'rahul'}"
      ]
     },
     "execution_count": 64,
     "metadata": {},
     "output_type": "execute_result"
    }
   ],
   "source": [
    "s4"
   ]
  },
  {
   "cell_type": "code",
   "execution_count": 69,
   "id": "e2c525d2-1271-4400-b27a-ae911ad873fe",
   "metadata": {},
   "outputs": [],
   "source": [
    "s5={8,44,5,24,5,55,64,5,3,5,24,34,5,\"abc\",35,5,432,1,3}"
   ]
  },
  {
   "cell_type": "code",
   "execution_count": 70,
   "id": "11656a6d-13ab-49f5-8340-f6318c9dacdc",
   "metadata": {},
   "outputs": [
    {
     "data": {
      "text/plain": [
       "{1, 24, 3, 34, 35, 432, 44, 5, 55, 64, 8, 'abc'}"
      ]
     },
     "execution_count": 70,
     "metadata": {},
     "output_type": "execute_result"
    }
   ],
   "source": [
    "s5"
   ]
  },
  {
   "cell_type": "code",
   "execution_count": 71,
   "id": "54ac0531-d240-4ba6-9666-bc12b9ca5a41",
   "metadata": {},
   "outputs": [
    {
     "ename": "TypeError",
     "evalue": "'set' object is not subscriptable",
     "output_type": "error",
     "traceback": [
      "\u001b[0;31m---------------------------------------------------------------------------\u001b[0m",
      "\u001b[0;31mTypeError\u001b[0m                                 Traceback (most recent call last)",
      "Cell \u001b[0;32mIn[71], line 1\u001b[0m\n\u001b[0;32m----> 1\u001b[0m \u001b[43ms5\u001b[49m\u001b[43m[\u001b[49m\u001b[38;5;241;43m0\u001b[39;49m\u001b[43m]\u001b[49m\n",
      "\u001b[0;31mTypeError\u001b[0m: 'set' object is not subscriptable"
     ]
    }
   ],
   "source": [
    "s5[0]"
   ]
  },
  {
   "cell_type": "code",
   "execution_count": 72,
   "id": "56c2e415-f344-4b65-b0fc-0f7e9dd188be",
   "metadata": {},
   "outputs": [
    {
     "ename": "TypeError",
     "evalue": "'set' object is not subscriptable",
     "output_type": "error",
     "traceback": [
      "\u001b[0;31m---------------------------------------------------------------------------\u001b[0m",
      "\u001b[0;31mTypeError\u001b[0m                                 Traceback (most recent call last)",
      "Cell \u001b[0;32mIn[72], line 1\u001b[0m\n\u001b[0;32m----> 1\u001b[0m \u001b[43ms5\u001b[49m\u001b[43m[\u001b[49m\u001b[43m:\u001b[49m\u001b[43m:\u001b[49m\u001b[38;5;241;43m-\u001b[39;49m\u001b[38;5;241;43m1\u001b[39;49m\u001b[43m]\u001b[49m\n",
      "\u001b[0;31mTypeError\u001b[0m: 'set' object is not subscriptable"
     ]
    }
   ],
   "source": [
    "s5[::-1]"
   ]
  },
  {
   "cell_type": "code",
   "execution_count": 76,
   "id": "e0a6bbaa-e2fd-427f-bff7-e41d8ce95d50",
   "metadata": {},
   "outputs": [],
   "source": [
    "s5.add(777)"
   ]
  },
  {
   "cell_type": "code",
   "execution_count": 77,
   "id": "7f627e91-a5c8-4712-9f81-0a22b8a36045",
   "metadata": {},
   "outputs": [
    {
     "data": {
      "text/plain": [
       "{1, 24, 3, 34, 35, 432, 44, 5, 55, 64, 777, 778, 8, 'abc'}"
      ]
     },
     "execution_count": 77,
     "metadata": {},
     "output_type": "execute_result"
    }
   ],
   "source": [
    "s5"
   ]
  },
  {
   "cell_type": "code",
   "execution_count": 78,
   "id": "9ef06514-c2da-42fa-9f4d-ddad276c39ba",
   "metadata": {},
   "outputs": [],
   "source": [
    "s5.remove(778)"
   ]
  },
  {
   "cell_type": "code",
   "execution_count": 79,
   "id": "14628af8-f176-4352-bbe0-c9d654be39ca",
   "metadata": {},
   "outputs": [
    {
     "data": {
      "text/plain": [
       "{1, 24, 3, 34, 35, 432, 44, 5, 55, 64, 777, 8, 'abc'}"
      ]
     },
     "execution_count": 79,
     "metadata": {},
     "output_type": "execute_result"
    }
   ],
   "source": [
    "s5"
   ]
  },
  {
   "cell_type": "code",
   "execution_count": null,
   "id": "a250a77c-0820-4372-9386-adf28bda536e",
   "metadata": {},
   "outputs": [],
   "source": []
  }
 ],
 "metadata": {
  "kernelspec": {
   "display_name": "Python 3 (ipykernel)",
   "language": "python",
   "name": "python3"
  },
  "language_info": {
   "codemirror_mode": {
    "name": "ipython",
    "version": 3
   },
   "file_extension": ".py",
   "mimetype": "text/x-python",
   "name": "python",
   "nbconvert_exporter": "python",
   "pygments_lexer": "ipython3",
   "version": "3.10.8"
  }
 },
 "nbformat": 4,
 "nbformat_minor": 5
}
